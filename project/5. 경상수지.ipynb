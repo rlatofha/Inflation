{
 "cells": [
  {
   "cell_type": "code",
   "execution_count": 1,
   "id": "9280d031",
   "metadata": {},
   "outputs": [],
   "source": [
    "library(stringr)"
   ]
  },
  {
   "cell_type": "code",
   "execution_count": 2,
   "id": "c78e99df",
   "metadata": {},
   "outputs": [],
   "source": [
    "suzi<- read.csv('../Data/경상수지.csv', fileEncoding = \"euc-kr\", header = F)"
   ]
  },
  {
   "cell_type": "code",
   "execution_count": 5,
   "id": "93f73336",
   "metadata": {},
   "outputs": [
    {
     "data": {
      "text/html": [
       "<table>\n",
       "<thead><tr><th scope=col>V1</th><th scope=col>V2</th></tr></thead>\n",
       "<tbody>\n",
       "\t<tr><td>통계표        </td><td>8.1.1 국제수지</td></tr>\n",
       "\t<tr><td>항목명1       </td><td>경상수지      </td></tr>\n",
       "\t<tr><td>단위          </td><td>백만달러      </td></tr>\n",
       "\t<tr><td>변환          </td><td>원자료        </td></tr>\n",
       "\t<tr><td>1980/01       </td><td>-609.4        </td></tr>\n",
       "\t<tr><td>1980/02       </td><td>-548.1        </td></tr>\n",
       "</tbody>\n",
       "</table>\n"
      ],
      "text/latex": [
       "\\begin{tabular}{r|ll}\n",
       " V1 & V2\\\\\n",
       "\\hline\n",
       "\t 통계표         & 8.1.1 국제수지\\\\\n",
       "\t 항목명1        & 경상수지      \\\\\n",
       "\t 단위           & 백만달러      \\\\\n",
       "\t 변환           & 원자료        \\\\\n",
       "\t 1980/01        & -609.4        \\\\\n",
       "\t 1980/02        & -548.1        \\\\\n",
       "\\end{tabular}\n"
      ],
      "text/markdown": [
       "\n",
       "| V1 | V2 |\n",
       "|---|---|\n",
       "| 통계표         | 8.1.1 국제수지 |\n",
       "| 항목명1        | 경상수지       |\n",
       "| 단위           | 백만달러       |\n",
       "| 변환           | 원자료         |\n",
       "| 1980/01        | -609.4         |\n",
       "| 1980/02        | -548.1         |\n",
       "\n"
      ],
      "text/plain": [
       "  V1      V2            \n",
       "1 통계표  8.1.1 국제수지\n",
       "2 항목명1 경상수지      \n",
       "3 단위    백만달러      \n",
       "4 변환    원자료        \n",
       "5 1980/01 -609.4        \n",
       "6 1980/02 -548.1        "
      ]
     },
     "metadata": {},
     "output_type": "display_data"
    },
    {
     "data": {
      "text/html": [
       "<table>\n",
       "<thead><tr><th></th><th scope=col>V1</th><th scope=col>V2</th></tr></thead>\n",
       "<tbody>\n",
       "\t<tr><th scope=row>504</th><td>2021/08                                                                           </td><td>7,512.3                                                                           </td></tr>\n",
       "\t<tr><th scope=row>505</th><td>2021/09                                                                           </td><td>10,067.7                                                                          </td></tr>\n",
       "\t<tr><th scope=row>506</th><td>   8.1.1 국제수지                                                                 </td><td>                                                                                  </td></tr>\n",
       "\t<tr><th scope=row>507</th><td>통계담당 : 한국은행 경제통계국 국제수지팀(경상:02-759-4331                        </td><td> 금융:02-759-4570)                                                                </td></tr>\n",
       "\t<tr><th scope=row>508</th><td>주 : - 금융계정은 순자산 기준                                                     </td><td> 자산·부채 증가는 (+)                                                            </td></tr>\n",
       "\t<tr><th scope=row>509</th><td> 자산·부채 감소는 (-)                                                            </td><td>                                                                                  </td></tr>\n",
       "\t<tr><th scope=row>510</th><td>- 월별 잠정통계는 매익익월초                                                      </td><td> 2019년(1~12월                                                                    </td></tr>\n",
       "\t<tr><th scope=row>511</th><td> 월 단위) 확정통계는 2021년초 공표                                                </td><td>                                                                                  </td></tr>\n",
       "\t<tr><th scope=row>512</th><td>- 2019.2월 국제수지 일부 항목에 대한 개편으로 과거 시계열(1980.1월~2018.11월) 수정</td><td>                                                                                  </td></tr>\n",
       "\t<tr><th scope=row>513</th><td>- 금융계정 일부 항목의 과거 시계열이 수정                                         </td><td>                                                                                  </td></tr>\n",
       "</tbody>\n",
       "</table>\n"
      ],
      "text/latex": [
       "\\begin{tabular}{r|ll}\n",
       "  & V1 & V2\\\\\n",
       "\\hline\n",
       "\t504 & 2021/08                                                                            & 7,512.3                                                                           \\\\\n",
       "\t505 & 2021/09                                                                            & 10,067.7                                                                          \\\\\n",
       "\t506 &    8.1.1 국제수지                                                                  &                                                                                   \\\\\n",
       "\t507 & 통계담당 : 한국은행 경제통계국 국제수지팀(경상:02-759-4331                         &  금융:02-759-4570)                                                                \\\\\n",
       "\t508 & 주 : - 금융계정은 순자산 기준                                                      &  자산·부채 증가는 (+)                                                            \\\\\n",
       "\t509 &  자산·부채 감소는 (-)                                                             &                                                                                   \\\\\n",
       "\t510 & - 월별 잠정통계는 매익익월초                                                       &  2019년(1\\textasciitilde{}12월                                                   \\\\\n",
       "\t511 &  월 단위) 확정통계는 2021년초 공표                                                 &                                                                                   \\\\\n",
       "\t512 & - 2019.2월 국제수지 일부 항목에 대한 개편으로 과거 시계열(1980.1월\\textasciitilde{}2018.11월) 수정 &                                                                                                    \\\\\n",
       "\t513 & - 금융계정 일부 항목의 과거 시계열이 수정                                          &                                                                                   \\\\\n",
       "\\end{tabular}\n"
      ],
      "text/markdown": [
       "\n",
       "| <!--/--> | V1 | V2 |\n",
       "|---|---|---|\n",
       "| 504 | 2021/08                                                                            | 7,512.3                                                                            |\n",
       "| 505 | 2021/09                                                                            | 10,067.7                                                                           |\n",
       "| 506 |    8.1.1 국제수지                                                                  |                                                                                    |\n",
       "| 507 | 통계담당 : 한국은행 경제통계국 국제수지팀(경상:02-759-4331                         |  금융:02-759-4570)                                                                 |\n",
       "| 508 | 주 : - 금융계정은 순자산 기준                                                      |  자산·부채 증가는 (+)                                                             |\n",
       "| 509 |  자산·부채 감소는 (-)                                                             |                                                                                    |\n",
       "| 510 | - 월별 잠정통계는 매익익월초                                                       |  2019년(1~12월                                                                     |\n",
       "| 511 |  월 단위) 확정통계는 2021년초 공표                                                 |                                                                                    |\n",
       "| 512 | - 2019.2월 국제수지 일부 항목에 대한 개편으로 과거 시계열(1980.1월~2018.11월) 수정 |                                                                                    |\n",
       "| 513 | - 금융계정 일부 항목의 과거 시계열이 수정                                          |                                                                                    |\n",
       "\n"
      ],
      "text/plain": [
       "    V1                                                                                \n",
       "504 2021/08                                                                           \n",
       "505 2021/09                                                                           \n",
       "506    8.1.1 국제수지                                                                 \n",
       "507 통계담당 : 한국은행 경제통계국 국제수지팀(경상:02-759-4331                        \n",
       "508 주 : - 금융계정은 순자산 기준                                                     \n",
       "509  자산·부채 감소는 (-)                                                            \n",
       "510 - 월별 잠정통계는 매익익월초                                                      \n",
       "511  월 단위) 확정통계는 2021년초 공표                                                \n",
       "512 - 2019.2월 국제수지 일부 항목에 대한 개편으로 과거 시계열(1980.1월~2018.11월) 수정\n",
       "513 - 금융계정 일부 항목의 과거 시계열이 수정                                         \n",
       "    V2                    \n",
       "504 7,512.3               \n",
       "505 10,067.7              \n",
       "506                       \n",
       "507  금융:02-759-4570)    \n",
       "508  자산·부채 증가는 (+)\n",
       "509                       \n",
       "510  2019년(1~12월        \n",
       "511                       \n",
       "512                       \n",
       "513                       "
      ]
     },
     "metadata": {},
     "output_type": "display_data"
    }
   ],
   "source": [
    "head(suzi)\n",
    "tail(suzi,10)"
   ]
  },
  {
   "cell_type": "code",
   "execution_count": 6,
   "id": "6b40b154",
   "metadata": {},
   "outputs": [],
   "source": [
    "colnames(suzi) <- c('월간','경상수지')"
   ]
  },
  {
   "cell_type": "code",
   "execution_count": 7,
   "id": "89d2d562",
   "metadata": {},
   "outputs": [
    {
     "data": {
      "text/html": [
       "<table>\n",
       "<thead><tr><th scope=col>월간</th><th scope=col>경상수지</th></tr></thead>\n",
       "<tbody>\n",
       "\t<tr><td>통계표        </td><td>8.1.1 국제수지</td></tr>\n",
       "\t<tr><td>항목명1       </td><td>경상수지      </td></tr>\n",
       "\t<tr><td>단위          </td><td>백만달러      </td></tr>\n",
       "\t<tr><td>변환          </td><td>원자료        </td></tr>\n",
       "\t<tr><td>1980/01       </td><td>-609.4        </td></tr>\n",
       "\t<tr><td>1980/02       </td><td>-548.1        </td></tr>\n",
       "</tbody>\n",
       "</table>\n"
      ],
      "text/latex": [
       "\\begin{tabular}{r|ll}\n",
       " 월간 & 경상수지\\\\\n",
       "\\hline\n",
       "\t 통계표         & 8.1.1 국제수지\\\\\n",
       "\t 항목명1        & 경상수지      \\\\\n",
       "\t 단위           & 백만달러      \\\\\n",
       "\t 변환           & 원자료        \\\\\n",
       "\t 1980/01        & -609.4        \\\\\n",
       "\t 1980/02        & -548.1        \\\\\n",
       "\\end{tabular}\n"
      ],
      "text/markdown": [
       "\n",
       "| 월간 | 경상수지 |\n",
       "|---|---|\n",
       "| 통계표         | 8.1.1 국제수지 |\n",
       "| 항목명1        | 경상수지       |\n",
       "| 단위           | 백만달러       |\n",
       "| 변환           | 원자료         |\n",
       "| 1980/01        | -609.4         |\n",
       "| 1980/02        | -548.1         |\n",
       "\n"
      ],
      "text/plain": [
       "  월간    경상수지      \n",
       "1 통계표  8.1.1 국제수지\n",
       "2 항목명1 경상수지      \n",
       "3 단위    백만달러      \n",
       "4 변환    원자료        \n",
       "5 1980/01 -609.4        \n",
       "6 1980/02 -548.1        "
      ]
     },
     "metadata": {},
     "output_type": "display_data"
    }
   ],
   "source": [
    "head(suzi)"
   ]
  },
  {
   "cell_type": "code",
   "execution_count": 9,
   "id": "3b5eb49d",
   "metadata": {},
   "outputs": [],
   "source": [
    "suzi<-suzi[c(-(1:4),-(506:513)),]"
   ]
  },
  {
   "cell_type": "code",
   "execution_count": 10,
   "id": "395f410b",
   "metadata": {},
   "outputs": [
    {
     "data": {
      "text/html": [
       "<table>\n",
       "<thead><tr><th></th><th scope=col>월간</th><th scope=col>경상수지</th></tr></thead>\n",
       "<tbody>\n",
       "\t<tr><th scope=row>500</th><td>2021/04 </td><td>1,909.9 </td></tr>\n",
       "\t<tr><th scope=row>501</th><td>2021/05 </td><td>10,761.2</td></tr>\n",
       "\t<tr><th scope=row>502</th><td>2021/06 </td><td>8,846.9 </td></tr>\n",
       "\t<tr><th scope=row>503</th><td>2021/07 </td><td>8,210.7 </td></tr>\n",
       "\t<tr><th scope=row>504</th><td>2021/08 </td><td>7,512.3 </td></tr>\n",
       "\t<tr><th scope=row>505</th><td>2021/09 </td><td>10,067.7</td></tr>\n",
       "</tbody>\n",
       "</table>\n"
      ],
      "text/latex": [
       "\\begin{tabular}{r|ll}\n",
       "  & 월간 & 경상수지\\\\\n",
       "\\hline\n",
       "\t500 & 2021/04  & 1,909.9 \\\\\n",
       "\t501 & 2021/05  & 10,761.2\\\\\n",
       "\t502 & 2021/06  & 8,846.9 \\\\\n",
       "\t503 & 2021/07  & 8,210.7 \\\\\n",
       "\t504 & 2021/08  & 7,512.3 \\\\\n",
       "\t505 & 2021/09  & 10,067.7\\\\\n",
       "\\end{tabular}\n"
      ],
      "text/markdown": [
       "\n",
       "| <!--/--> | 월간 | 경상수지 |\n",
       "|---|---|---|\n",
       "| 500 | 2021/04  | 1,909.9  |\n",
       "| 501 | 2021/05  | 10,761.2 |\n",
       "| 502 | 2021/06  | 8,846.9  |\n",
       "| 503 | 2021/07  | 8,210.7  |\n",
       "| 504 | 2021/08  | 7,512.3  |\n",
       "| 505 | 2021/09  | 10,067.7 |\n",
       "\n"
      ],
      "text/plain": [
       "    월간    경상수지\n",
       "500 2021/04 1,909.9 \n",
       "501 2021/05 10,761.2\n",
       "502 2021/06 8,846.9 \n",
       "503 2021/07 8,210.7 \n",
       "504 2021/08 7,512.3 \n",
       "505 2021/09 10,067.7"
      ]
     },
     "metadata": {},
     "output_type": "display_data"
    }
   ],
   "source": [
    "tail(suzi)"
   ]
  },
  {
   "cell_type": "code",
   "execution_count": 11,
   "id": "3583001a",
   "metadata": {},
   "outputs": [],
   "source": [
    "rownames(suzi)<-c()"
   ]
  },
  {
   "cell_type": "code",
   "execution_count": 12,
   "id": "7ad26086",
   "metadata": {},
   "outputs": [
    {
     "data": {
      "text/html": [
       "<table>\n",
       "<thead><tr><th></th><th scope=col>월간</th><th scope=col>경상수지</th></tr></thead>\n",
       "<tbody>\n",
       "\t<tr><th scope=row>496</th><td>2021/04 </td><td>1,909.9 </td></tr>\n",
       "\t<tr><th scope=row>497</th><td>2021/05 </td><td>10,761.2</td></tr>\n",
       "\t<tr><th scope=row>498</th><td>2021/06 </td><td>8,846.9 </td></tr>\n",
       "\t<tr><th scope=row>499</th><td>2021/07 </td><td>8,210.7 </td></tr>\n",
       "\t<tr><th scope=row>500</th><td>2021/08 </td><td>7,512.3 </td></tr>\n",
       "\t<tr><th scope=row>501</th><td>2021/09 </td><td>10,067.7</td></tr>\n",
       "</tbody>\n",
       "</table>\n"
      ],
      "text/latex": [
       "\\begin{tabular}{r|ll}\n",
       "  & 월간 & 경상수지\\\\\n",
       "\\hline\n",
       "\t496 & 2021/04  & 1,909.9 \\\\\n",
       "\t497 & 2021/05  & 10,761.2\\\\\n",
       "\t498 & 2021/06  & 8,846.9 \\\\\n",
       "\t499 & 2021/07  & 8,210.7 \\\\\n",
       "\t500 & 2021/08  & 7,512.3 \\\\\n",
       "\t501 & 2021/09  & 10,067.7\\\\\n",
       "\\end{tabular}\n"
      ],
      "text/markdown": [
       "\n",
       "| <!--/--> | 월간 | 경상수지 |\n",
       "|---|---|---|\n",
       "| 496 | 2021/04  | 1,909.9  |\n",
       "| 497 | 2021/05  | 10,761.2 |\n",
       "| 498 | 2021/06  | 8,846.9  |\n",
       "| 499 | 2021/07  | 8,210.7  |\n",
       "| 500 | 2021/08  | 7,512.3  |\n",
       "| 501 | 2021/09  | 10,067.7 |\n",
       "\n"
      ],
      "text/plain": [
       "    월간    경상수지\n",
       "496 2021/04 1,909.9 \n",
       "497 2021/05 10,761.2\n",
       "498 2021/06 8,846.9 \n",
       "499 2021/07 8,210.7 \n",
       "500 2021/08 7,512.3 \n",
       "501 2021/09 10,067.7"
      ]
     },
     "metadata": {},
     "output_type": "display_data"
    }
   ],
   "source": [
    "tail(suzi)"
   ]
  },
  {
   "cell_type": "code",
   "execution_count": 13,
   "id": "80ae8c18",
   "metadata": {},
   "outputs": [
    {
     "name": "stdout",
     "output_type": "stream",
     "text": [
      "'data.frame':\t501 obs. of  2 variables:\n",
      " $ 월간    : Factor w/ 513 levels \"- 2019.2월 국제수지 일부 항목에 대한 개편으로 과거 시계열(1980.1월~2018.11월) 수정\",..: 7 8 9 10 11 12 13 14 15 16 ...\n",
      " $ 경상수지: Factor w/ 508 levels \"\",\"-1,008.2\",..: 150 146 164 158 142 124 156 135 119 127 ...\n"
     ]
    }
   ],
   "source": [
    "str(suzi)"
   ]
  },
  {
   "cell_type": "code",
   "execution_count": 14,
   "id": "8fd0e837",
   "metadata": {},
   "outputs": [],
   "source": [
    "suzi$월간 <- factor(suzi$월간)"
   ]
  },
  {
   "cell_type": "code",
   "execution_count": 15,
   "id": "2c9f82a1",
   "metadata": {},
   "outputs": [
    {
     "name": "stdout",
     "output_type": "stream",
     "text": [
      "'data.frame':\t501 obs. of  2 variables:\n",
      " $ 월간    : Factor w/ 501 levels \"1980/01\",\"1980/02\",..: 1 2 3 4 5 6 7 8 9 10 ...\n",
      " $ 경상수지: Factor w/ 508 levels \"\",\"-1,008.2\",..: 150 146 164 158 142 124 156 135 119 127 ...\n"
     ]
    }
   ],
   "source": [
    "str(suzi)"
   ]
  },
  {
   "cell_type": "code",
   "execution_count": 16,
   "id": "51077ead",
   "metadata": {},
   "outputs": [],
   "source": [
    "for (i in 2: ncol(suzi)){ \n",
    "    suzi[,i] <- as.numeric(str_replace_all(as.character(suzi[,i]),',',''))\n",
    "\n",
    "}"
   ]
  },
  {
   "cell_type": "code",
   "execution_count": 17,
   "id": "408b3c77",
   "metadata": {},
   "outputs": [
    {
     "data": {
      "text/html": [
       "<table>\n",
       "<thead><tr><th scope=col>월간</th><th scope=col>경상수지</th></tr></thead>\n",
       "<tbody>\n",
       "\t<tr><td>1980/01</td><td>-609.4 </td></tr>\n",
       "\t<tr><td>1980/02</td><td>-548.1 </td></tr>\n",
       "\t<tr><td>1980/03</td><td>-676.8 </td></tr>\n",
       "\t<tr><td>1980/04</td><td>-637.1 </td></tr>\n",
       "\t<tr><td>1980/05</td><td>-541.2 </td></tr>\n",
       "\t<tr><td>1980/06</td><td>-468.5 </td></tr>\n",
       "</tbody>\n",
       "</table>\n"
      ],
      "text/latex": [
       "\\begin{tabular}{r|ll}\n",
       " 월간 & 경상수지\\\\\n",
       "\\hline\n",
       "\t 1980/01 & -609.4 \\\\\n",
       "\t 1980/02 & -548.1 \\\\\n",
       "\t 1980/03 & -676.8 \\\\\n",
       "\t 1980/04 & -637.1 \\\\\n",
       "\t 1980/05 & -541.2 \\\\\n",
       "\t 1980/06 & -468.5 \\\\\n",
       "\\end{tabular}\n"
      ],
      "text/markdown": [
       "\n",
       "| 월간 | 경상수지 |\n",
       "|---|---|\n",
       "| 1980/01 | -609.4  |\n",
       "| 1980/02 | -548.1  |\n",
       "| 1980/03 | -676.8  |\n",
       "| 1980/04 | -637.1  |\n",
       "| 1980/05 | -541.2  |\n",
       "| 1980/06 | -468.5  |\n",
       "\n"
      ],
      "text/plain": [
       "  월간    경상수지\n",
       "1 1980/01 -609.4  \n",
       "2 1980/02 -548.1  \n",
       "3 1980/03 -676.8  \n",
       "4 1980/04 -637.1  \n",
       "5 1980/05 -541.2  \n",
       "6 1980/06 -468.5  "
      ]
     },
     "metadata": {},
     "output_type": "display_data"
    }
   ],
   "source": [
    "head(suzi)"
   ]
  },
  {
   "cell_type": "code",
   "execution_count": 18,
   "id": "128eb962",
   "metadata": {},
   "outputs": [
    {
     "name": "stdout",
     "output_type": "stream",
     "text": [
      "'data.frame':\t501 obs. of  2 variables:\n",
      " $ 월간    : Factor w/ 501 levels \"1980/01\",\"1980/02\",..: 1 2 3 4 5 6 7 8 9 10 ...\n",
      " $ 경상수지: num  -609 -548 -677 -637 -541 ...\n"
     ]
    }
   ],
   "source": [
    "str(suzi)"
   ]
  },
  {
   "cell_type": "code",
   "execution_count": 19,
   "id": "8c97a3be",
   "metadata": {},
   "outputs": [
    {
     "data": {
      "text/html": [
       "<dl class=dl-horizontal>\n",
       "\t<dt>월간</dt>\n",
       "\t\t<dd>0</dd>\n",
       "\t<dt>경상수지</dt>\n",
       "\t\t<dd>0</dd>\n",
       "</dl>\n"
      ],
      "text/latex": [
       "\\begin{description*}\n",
       "\\item[월간] 0\n",
       "\\item[경상수지] 0\n",
       "\\end{description*}\n"
      ],
      "text/markdown": [
       "월간\n",
       ":   0경상수지\n",
       ":   0\n",
       "\n"
      ],
      "text/plain": [
       "    월간 경상수지 \n",
       "       0        0 "
      ]
     },
     "metadata": {},
     "output_type": "display_data"
    }
   ],
   "source": [
    "colSums(is.na(suzi))"
   ]
  },
  {
   "cell_type": "code",
   "execution_count": 20,
   "id": "be43e46a",
   "metadata": {},
   "outputs": [],
   "source": [
    "suzi$월간 <- str_replace_all(as.character(suzi[,1]),'/','.')"
   ]
  },
  {
   "cell_type": "code",
   "execution_count": 21,
   "id": "8c1b09b1",
   "metadata": {},
   "outputs": [
    {
     "data": {
      "text/html": [
       "<table>\n",
       "<thead><tr><th scope=col>월간</th><th scope=col>경상수지</th></tr></thead>\n",
       "<tbody>\n",
       "\t<tr><td>1980.01</td><td>-609.4 </td></tr>\n",
       "\t<tr><td>1980.02</td><td>-548.1 </td></tr>\n",
       "\t<tr><td>1980.03</td><td>-676.8 </td></tr>\n",
       "\t<tr><td>1980.04</td><td>-637.1 </td></tr>\n",
       "\t<tr><td>1980.05</td><td>-541.2 </td></tr>\n",
       "\t<tr><td>1980.06</td><td>-468.5 </td></tr>\n",
       "</tbody>\n",
       "</table>\n"
      ],
      "text/latex": [
       "\\begin{tabular}{r|ll}\n",
       " 월간 & 경상수지\\\\\n",
       "\\hline\n",
       "\t 1980.01 & -609.4 \\\\\n",
       "\t 1980.02 & -548.1 \\\\\n",
       "\t 1980.03 & -676.8 \\\\\n",
       "\t 1980.04 & -637.1 \\\\\n",
       "\t 1980.05 & -541.2 \\\\\n",
       "\t 1980.06 & -468.5 \\\\\n",
       "\\end{tabular}\n"
      ],
      "text/markdown": [
       "\n",
       "| 월간 | 경상수지 |\n",
       "|---|---|\n",
       "| 1980.01 | -609.4  |\n",
       "| 1980.02 | -548.1  |\n",
       "| 1980.03 | -676.8  |\n",
       "| 1980.04 | -637.1  |\n",
       "| 1980.05 | -541.2  |\n",
       "| 1980.06 | -468.5  |\n",
       "\n"
      ],
      "text/plain": [
       "  월간    경상수지\n",
       "1 1980.01 -609.4  \n",
       "2 1980.02 -548.1  \n",
       "3 1980.03 -676.8  \n",
       "4 1980.04 -637.1  \n",
       "5 1980.05 -541.2  \n",
       "6 1980.06 -468.5  "
      ]
     },
     "metadata": {},
     "output_type": "display_data"
    }
   ],
   "source": [
    "head(suzi)"
   ]
  },
  {
   "cell_type": "code",
   "execution_count": 22,
   "id": "eadf1cee",
   "metadata": {},
   "outputs": [
    {
     "name": "stdout",
     "output_type": "stream",
     "text": [
      "'data.frame':\t501 obs. of  2 variables:\n",
      " $ 월간    : chr  \"1980.01\" \"1980.02\" \"1980.03\" \"1980.04\" ...\n",
      " $ 경상수지: num  -609 -548 -677 -637 -541 ...\n"
     ]
    }
   ],
   "source": [
    "str(suzi)"
   ]
  },
  {
   "cell_type": "code",
   "execution_count": 23,
   "id": "6a35125a",
   "metadata": {},
   "outputs": [],
   "source": [
    "write.csv(suzi,\"../Data/CABdata.csv\",row.names=F)"
   ]
  },
  {
   "cell_type": "code",
   "execution_count": null,
   "id": "8e9786f7",
   "metadata": {},
   "outputs": [],
   "source": []
  }
 ],
 "metadata": {
  "kernelspec": {
   "display_name": "R",
   "language": "R",
   "name": "ir"
  },
  "language_info": {
   "codemirror_mode": "r",
   "file_extension": ".r",
   "mimetype": "text/x-r-source",
   "name": "R",
   "pygments_lexer": "r",
   "version": "3.6.1"
  }
 },
 "nbformat": 4,
 "nbformat_minor": 5
}

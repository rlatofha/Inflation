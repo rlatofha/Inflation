{
 "cells": [
  {
   "cell_type": "code",
   "execution_count": 23,
   "id": "76f7b6a3",
   "metadata": {},
   "outputs": [
    {
     "name": "stderr",
     "output_type": "stream",
     "text": [
      "\n",
      "Attaching package: ‘dplyr’\n",
      "\n",
      "The following objects are masked from ‘package:stats’:\n",
      "\n",
      "    filter, lag\n",
      "\n",
      "The following objects are masked from ‘package:base’:\n",
      "\n",
      "    intersect, setdiff, setequal, union\n",
      "\n"
     ]
    }
   ],
   "source": [
    "library(stringr)\n",
    "library(dplyr)"
   ]
  },
  {
   "cell_type": "code",
   "execution_count": 6,
   "id": "a53d46d8",
   "metadata": {},
   "outputs": [],
   "source": [
    "save1 <- read.table('../Data/주민등록인구.txt',fileEncoding = 'utf-8',header = T)"
   ]
  },
  {
   "cell_type": "code",
   "execution_count": 7,
   "id": "c0bc90b0",
   "metadata": {},
   "outputs": [
    {
     "data": {
      "text/html": [
       "<table>\n",
       "<thead><tr><th scope=col>기간</th><th scope=col>자치구</th><th scope=col>세대</th><th scope=col>인구</th><th scope=col>인구.1</th><th scope=col>인구.2</th><th scope=col>인구.3</th><th scope=col>인구.4</th><th scope=col>인구.5</th><th scope=col>인구.6</th><th scope=col>인구.7</th><th scope=col>인구.8</th><th scope=col>세대당인구</th><th scope=col>X65세이상고령자</th></tr></thead>\n",
       "<tbody>\n",
       "\t<tr><td>기간          </td><td>자치구        </td><td>세대          </td><td>합계          </td><td>합계          </td><td>합계          </td><td>한국인        </td><td>한국인        </td><td>한국인        </td><td>등록외국인    </td><td>등록외국인    </td><td>등록외국인    </td><td>세대당인구    </td><td>65세이상고령자</td></tr>\n",
       "\t<tr><td>기간          </td><td>자치구        </td><td>세대          </td><td>계            </td><td>남자          </td><td>여자          </td><td>계            </td><td>남자          </td><td>여자          </td><td>계            </td><td>남자          </td><td>여자          </td><td>세대당인구    </td><td>65세이상고령자</td></tr>\n",
       "\t<tr><td>2016.1/4      </td><td>합계          </td><td>4,194,485     </td><td>10,282,821    </td><td>5,053,675     </td><td>5,229,146     </td><td>10,009,588    </td><td>4,922,103     </td><td>5,087,485     </td><td>273,233       </td><td>131,572       </td><td>141,661       </td><td>2.39          </td><td>1,280,268     </td></tr>\n",
       "\t<tr><td>2016.1/4      </td><td>종로구        </td><td>73,146        </td><td>163,993       </td><td>80,548        </td><td>83,445        </td><td>155,142       </td><td>76,593        </td><td>78,549        </td><td>8,851         </td><td>3,955         </td><td>4,896         </td><td>2.12          </td><td>24,999        </td></tr>\n",
       "\t<tr><td>2016.1/4      </td><td>중구          </td><td>59,339        </td><td>134,436       </td><td>66,747        </td><td>67,689        </td><td>125,765       </td><td>62,653        </td><td>63,112        </td><td>8,671         </td><td>4,094         </td><td>4,577         </td><td>2.12          </td><td>20,431        </td></tr>\n",
       "\t<tr><td>2016.1/4      </td><td>용산구        </td><td>107,342       </td><td>247,297       </td><td>120,607       </td><td>126,690       </td><td>232,684       </td><td>112,719       </td><td>119,965       </td><td>14,613        </td><td>7,888         </td><td>6,725         </td><td>2.17          </td><td>35,912        </td></tr>\n",
       "</tbody>\n",
       "</table>\n"
      ],
      "text/latex": [
       "\\begin{tabular}{r|llllllllllllll}\n",
       " 기간 & 자치구 & 세대 & 인구 & 인구.1 & 인구.2 & 인구.3 & 인구.4 & 인구.5 & 인구.6 & 인구.7 & 인구.8 & 세대당인구 & X65세이상고령자\\\\\n",
       "\\hline\n",
       "\t 기간           & 자치구         & 세대           & 합계           & 합계           & 합계           & 한국인         & 한국인         & 한국인         & 등록외국인     & 등록외국인     & 등록외국인     & 세대당인구     & 65세이상고령자\\\\\n",
       "\t 기간           & 자치구         & 세대           & 계             & 남자           & 여자           & 계             & 남자           & 여자           & 계             & 남자           & 여자           & 세대당인구     & 65세이상고령자\\\\\n",
       "\t 2016.1/4       & 합계           & 4,194,485      & 10,282,821     & 5,053,675      & 5,229,146      & 10,009,588     & 4,922,103      & 5,087,485      & 273,233        & 131,572        & 141,661        & 2.39           & 1,280,268     \\\\\n",
       "\t 2016.1/4       & 종로구         & 73,146         & 163,993        & 80,548         & 83,445         & 155,142        & 76,593         & 78,549         & 8,851          & 3,955          & 4,896          & 2.12           & 24,999        \\\\\n",
       "\t 2016.1/4       & 중구           & 59,339         & 134,436        & 66,747         & 67,689         & 125,765        & 62,653         & 63,112         & 8,671          & 4,094          & 4,577          & 2.12           & 20,431        \\\\\n",
       "\t 2016.1/4       & 용산구         & 107,342        & 247,297        & 120,607        & 126,690        & 232,684        & 112,719        & 119,965        & 14,613         & 7,888          & 6,725          & 2.17           & 35,912        \\\\\n",
       "\\end{tabular}\n"
      ],
      "text/markdown": [
       "\n",
       "| 기간 | 자치구 | 세대 | 인구 | 인구.1 | 인구.2 | 인구.3 | 인구.4 | 인구.5 | 인구.6 | 인구.7 | 인구.8 | 세대당인구 | X65세이상고령자 |\n",
       "|---|---|---|---|---|---|---|---|---|---|---|---|---|---|\n",
       "| 기간           | 자치구         | 세대           | 합계           | 합계           | 합계           | 한국인         | 한국인         | 한국인         | 등록외국인     | 등록외국인     | 등록외국인     | 세대당인구     | 65세이상고령자 |\n",
       "| 기간           | 자치구         | 세대           | 계             | 남자           | 여자           | 계             | 남자           | 여자           | 계             | 남자           | 여자           | 세대당인구     | 65세이상고령자 |\n",
       "| 2016.1/4       | 합계           | 4,194,485      | 10,282,821     | 5,053,675      | 5,229,146      | 10,009,588     | 4,922,103      | 5,087,485      | 273,233        | 131,572        | 141,661        | 2.39           | 1,280,268      |\n",
       "| 2016.1/4       | 종로구         | 73,146         | 163,993        | 80,548         | 83,445         | 155,142        | 76,593         | 78,549         | 8,851          | 3,955          | 4,896          | 2.12           | 24,999         |\n",
       "| 2016.1/4       | 중구           | 59,339         | 134,436        | 66,747         | 67,689         | 125,765        | 62,653         | 63,112         | 8,671          | 4,094          | 4,577          | 2.12           | 20,431         |\n",
       "| 2016.1/4       | 용산구         | 107,342        | 247,297        | 120,607        | 126,690        | 232,684        | 112,719        | 119,965        | 14,613         | 7,888          | 6,725          | 2.17           | 35,912         |\n",
       "\n"
      ],
      "text/plain": [
       "  기간     자치구 세대      인구       인구.1    인구.2    인구.3     인구.4   \n",
       "1 기간     자치구 세대      합계       합계      합계      한국인     한국인   \n",
       "2 기간     자치구 세대      계         남자      여자      계         남자     \n",
       "3 2016.1/4 합계   4,194,485 10,282,821 5,053,675 5,229,146 10,009,588 4,922,103\n",
       "4 2016.1/4 종로구 73,146    163,993    80,548    83,445    155,142    76,593   \n",
       "5 2016.1/4 중구   59,339    134,436    66,747    67,689    125,765    62,653   \n",
       "6 2016.1/4 용산구 107,342   247,297    120,607   126,690   232,684    112,719  \n",
       "  인구.5    인구.6     인구.7     인구.8     세대당인구 X65세이상고령자\n",
       "1 한국인    등록외국인 등록외국인 등록외국인 세대당인구 65세이상고령자 \n",
       "2 여자      계         남자       여자       세대당인구 65세이상고령자 \n",
       "3 5,087,485 273,233    131,572    141,661    2.39       1,280,268      \n",
       "4 78,549    8,851      3,955      4,896      2.12       24,999         \n",
       "5 63,112    8,671      4,094      4,577      2.12       20,431         \n",
       "6 119,965   14,613     7,888      6,725      2.17       35,912         "
      ]
     },
     "metadata": {},
     "output_type": "display_data"
    },
    {
     "data": {
      "text/html": [
       "<table>\n",
       "<thead><tr><th></th><th scope=col>기간</th><th scope=col>자치구</th><th scope=col>세대</th><th scope=col>인구</th><th scope=col>인구.1</th><th scope=col>인구.2</th><th scope=col>인구.3</th><th scope=col>인구.4</th><th scope=col>인구.5</th><th scope=col>인구.6</th><th scope=col>인구.7</th><th scope=col>인구.8</th><th scope=col>세대당인구</th><th scope=col>X65세이상고령자</th></tr></thead>\n",
       "<tbody>\n",
       "\t<tr><th scope=row>517</th><td>2020.4/4</td><td>동작구  </td><td>184,229 </td><td>401,572 </td><td>193,718 </td><td>207,854 </td><td>391,220 </td><td>189,152 </td><td>202,068 </td><td>10,352  </td><td>4,566   </td><td>5,786   </td><td>2.12    </td><td>65,190  </td></tr>\n",
       "\t<tr><th scope=row>518</th><td>2020.4/4</td><td>관악구  </td><td>274,811 </td><td>509,803 </td><td>255,211 </td><td>254,592 </td><td>495,060 </td><td>248,339 </td><td>246,721 </td><td>14,743  </td><td>6,872   </td><td>7,871   </td><td>1.8     </td><td>78,875  </td></tr>\n",
       "\t<tr><th scope=row>519</th><td>2020.4/4</td><td>서초구  </td><td>173,502 </td><td>429,025 </td><td>205,282 </td><td>223,743 </td><td>425,126 </td><td>203,359 </td><td>221,767 </td><td>3,899   </td><td>1,923   </td><td>1,976   </td><td>2.45    </td><td>60,169  </td></tr>\n",
       "\t<tr><th scope=row>520</th><td>2020.4/4</td><td>강남구  </td><td>234,872 </td><td>544,055 </td><td>260,378 </td><td>283,677 </td><td>539,231 </td><td>257,999 </td><td>281,232 </td><td>4,824   </td><td>2,379   </td><td>2,445   </td><td>2.3     </td><td>75,096  </td></tr>\n",
       "\t<tr><th scope=row>521</th><td>2020.4/4</td><td>송파구  </td><td>281,959 </td><td>673,926 </td><td>325,080 </td><td>348,846 </td><td>667,960 </td><td>322,299 </td><td>345,661 </td><td>5,966   </td><td>2,781   </td><td>3,185   </td><td>2.37    </td><td>93,483  </td></tr>\n",
       "\t<tr><th scope=row>522</th><td>2020.4/4</td><td>강동구  </td><td>196,499 </td><td>463,998 </td><td>228,044 </td><td>235,954 </td><td>459,970 </td><td>226,216 </td><td>233,754 </td><td>4,028   </td><td>1,828   </td><td>2,200   </td><td>2.34    </td><td>70,019  </td></tr>\n",
       "</tbody>\n",
       "</table>\n"
      ],
      "text/latex": [
       "\\begin{tabular}{r|llllllllllllll}\n",
       "  & 기간 & 자치구 & 세대 & 인구 & 인구.1 & 인구.2 & 인구.3 & 인구.4 & 인구.5 & 인구.6 & 인구.7 & 인구.8 & 세대당인구 & X65세이상고령자\\\\\n",
       "\\hline\n",
       "\t517 & 2020.4/4 & 동작구   & 184,229  & 401,572  & 193,718  & 207,854  & 391,220  & 189,152  & 202,068  & 10,352   & 4,566    & 5,786    & 2.12     & 65,190  \\\\\n",
       "\t518 & 2020.4/4 & 관악구   & 274,811  & 509,803  & 255,211  & 254,592  & 495,060  & 248,339  & 246,721  & 14,743   & 6,872    & 7,871    & 1.8      & 78,875  \\\\\n",
       "\t519 & 2020.4/4 & 서초구   & 173,502  & 429,025  & 205,282  & 223,743  & 425,126  & 203,359  & 221,767  & 3,899    & 1,923    & 1,976    & 2.45     & 60,169  \\\\\n",
       "\t520 & 2020.4/4 & 강남구   & 234,872  & 544,055  & 260,378  & 283,677  & 539,231  & 257,999  & 281,232  & 4,824    & 2,379    & 2,445    & 2.3      & 75,096  \\\\\n",
       "\t521 & 2020.4/4 & 송파구   & 281,959  & 673,926  & 325,080  & 348,846  & 667,960  & 322,299  & 345,661  & 5,966    & 2,781    & 3,185    & 2.37     & 93,483  \\\\\n",
       "\t522 & 2020.4/4 & 강동구   & 196,499  & 463,998  & 228,044  & 235,954  & 459,970  & 226,216  & 233,754  & 4,028    & 1,828    & 2,200    & 2.34     & 70,019  \\\\\n",
       "\\end{tabular}\n"
      ],
      "text/markdown": [
       "\n",
       "| <!--/--> | 기간 | 자치구 | 세대 | 인구 | 인구.1 | 인구.2 | 인구.3 | 인구.4 | 인구.5 | 인구.6 | 인구.7 | 인구.8 | 세대당인구 | X65세이상고령자 |\n",
       "|---|---|---|---|---|---|---|---|---|---|---|---|---|---|---|\n",
       "| 517 | 2020.4/4 | 동작구   | 184,229  | 401,572  | 193,718  | 207,854  | 391,220  | 189,152  | 202,068  | 10,352   | 4,566    | 5,786    | 2.12     | 65,190   |\n",
       "| 518 | 2020.4/4 | 관악구   | 274,811  | 509,803  | 255,211  | 254,592  | 495,060  | 248,339  | 246,721  | 14,743   | 6,872    | 7,871    | 1.8      | 78,875   |\n",
       "| 519 | 2020.4/4 | 서초구   | 173,502  | 429,025  | 205,282  | 223,743  | 425,126  | 203,359  | 221,767  | 3,899    | 1,923    | 1,976    | 2.45     | 60,169   |\n",
       "| 520 | 2020.4/4 | 강남구   | 234,872  | 544,055  | 260,378  | 283,677  | 539,231  | 257,999  | 281,232  | 4,824    | 2,379    | 2,445    | 2.3      | 75,096   |\n",
       "| 521 | 2020.4/4 | 송파구   | 281,959  | 673,926  | 325,080  | 348,846  | 667,960  | 322,299  | 345,661  | 5,966    | 2,781    | 3,185    | 2.37     | 93,483   |\n",
       "| 522 | 2020.4/4 | 강동구   | 196,499  | 463,998  | 228,044  | 235,954  | 459,970  | 226,216  | 233,754  | 4,028    | 1,828    | 2,200    | 2.34     | 70,019   |\n",
       "\n"
      ],
      "text/plain": [
       "    기간     자치구 세대    인구    인구.1  인구.2  인구.3  인구.4  인구.5 \n",
       "517 2020.4/4 동작구 184,229 401,572 193,718 207,854 391,220 189,152 202,068\n",
       "518 2020.4/4 관악구 274,811 509,803 255,211 254,592 495,060 248,339 246,721\n",
       "519 2020.4/4 서초구 173,502 429,025 205,282 223,743 425,126 203,359 221,767\n",
       "520 2020.4/4 강남구 234,872 544,055 260,378 283,677 539,231 257,999 281,232\n",
       "521 2020.4/4 송파구 281,959 673,926 325,080 348,846 667,960 322,299 345,661\n",
       "522 2020.4/4 강동구 196,499 463,998 228,044 235,954 459,970 226,216 233,754\n",
       "    인구.6 인구.7 인구.8 세대당인구 X65세이상고령자\n",
       "517 10,352 4,566  5,786  2.12       65,190         \n",
       "518 14,743 6,872  7,871  1.8        78,875         \n",
       "519 3,899  1,923  1,976  2.45       60,169         \n",
       "520 4,824  2,379  2,445  2.3        75,096         \n",
       "521 5,966  2,781  3,185  2.37       93,483         \n",
       "522 4,028  1,828  2,200  2.34       70,019         "
      ]
     },
     "metadata": {},
     "output_type": "display_data"
    }
   ],
   "source": [
    "head(save1)\n",
    "tail(save1)"
   ]
  },
  {
   "cell_type": "code",
   "execution_count": 10,
   "id": "282cc9eb",
   "metadata": {},
   "outputs": [],
   "source": [
    "save2 <- save1[-c(1:2),c(1:2,4:6)]"
   ]
  },
  {
   "cell_type": "code",
   "execution_count": 11,
   "id": "23219055",
   "metadata": {},
   "outputs": [],
   "source": [
    "colnames(save2) <- c('기간','자치구','총인구','남성','여성')"
   ]
  },
  {
   "cell_type": "code",
   "execution_count": 12,
   "id": "c844a332",
   "metadata": {},
   "outputs": [
    {
     "data": {
      "text/html": [
       "<table>\n",
       "<thead><tr><th></th><th scope=col>기간</th><th scope=col>자치구</th><th scope=col>총인구</th><th scope=col>남성</th><th scope=col>여성</th></tr></thead>\n",
       "<tbody>\n",
       "\t<tr><th scope=row>3</th><td>2016.1/4  </td><td>합계      </td><td>10,282,821</td><td>5,053,675 </td><td>5,229,146 </td></tr>\n",
       "\t<tr><th scope=row>4</th><td>2016.1/4  </td><td>종로구    </td><td>163,993   </td><td>80,548    </td><td>83,445    </td></tr>\n",
       "\t<tr><th scope=row>5</th><td>2016.1/4  </td><td>중구      </td><td>134,436   </td><td>66,747    </td><td>67,689    </td></tr>\n",
       "\t<tr><th scope=row>6</th><td>2016.1/4  </td><td>용산구    </td><td>247,297   </td><td>120,607   </td><td>126,690   </td></tr>\n",
       "\t<tr><th scope=row>7</th><td>2016.1/4  </td><td>성동구    </td><td>304,565   </td><td>151,019   </td><td>153,546   </td></tr>\n",
       "\t<tr><th scope=row>8</th><td>2016.1/4  </td><td>광진구    </td><td>374,798   </td><td>182,951   </td><td>191,847   </td></tr>\n",
       "</tbody>\n",
       "</table>\n"
      ],
      "text/latex": [
       "\\begin{tabular}{r|lllll}\n",
       "  & 기간 & 자치구 & 총인구 & 남성 & 여성\\\\\n",
       "\\hline\n",
       "\t3 & 2016.1/4   & 합계       & 10,282,821 & 5,053,675  & 5,229,146 \\\\\n",
       "\t4 & 2016.1/4   & 종로구     & 163,993    & 80,548     & 83,445    \\\\\n",
       "\t5 & 2016.1/4   & 중구       & 134,436    & 66,747     & 67,689    \\\\\n",
       "\t6 & 2016.1/4   & 용산구     & 247,297    & 120,607    & 126,690   \\\\\n",
       "\t7 & 2016.1/4   & 성동구     & 304,565    & 151,019    & 153,546   \\\\\n",
       "\t8 & 2016.1/4   & 광진구     & 374,798    & 182,951    & 191,847   \\\\\n",
       "\\end{tabular}\n"
      ],
      "text/markdown": [
       "\n",
       "| <!--/--> | 기간 | 자치구 | 총인구 | 남성 | 여성 |\n",
       "|---|---|---|---|---|---|\n",
       "| 3 | 2016.1/4   | 합계       | 10,282,821 | 5,053,675  | 5,229,146  |\n",
       "| 4 | 2016.1/4   | 종로구     | 163,993    | 80,548     | 83,445     |\n",
       "| 5 | 2016.1/4   | 중구       | 134,436    | 66,747     | 67,689     |\n",
       "| 6 | 2016.1/4   | 용산구     | 247,297    | 120,607    | 126,690    |\n",
       "| 7 | 2016.1/4   | 성동구     | 304,565    | 151,019    | 153,546    |\n",
       "| 8 | 2016.1/4   | 광진구     | 374,798    | 182,951    | 191,847    |\n",
       "\n"
      ],
      "text/plain": [
       "  기간     자치구 총인구     남성      여성     \n",
       "3 2016.1/4 합계   10,282,821 5,053,675 5,229,146\n",
       "4 2016.1/4 종로구 163,993    80,548    83,445   \n",
       "5 2016.1/4 중구   134,436    66,747    67,689   \n",
       "6 2016.1/4 용산구 247,297    120,607   126,690  \n",
       "7 2016.1/4 성동구 304,565    151,019   153,546  \n",
       "8 2016.1/4 광진구 374,798    182,951   191,847  "
      ]
     },
     "metadata": {},
     "output_type": "display_data"
    }
   ],
   "source": [
    "head(save2)"
   ]
  },
  {
   "cell_type": "code",
   "execution_count": 19,
   "id": "9f66c87c",
   "metadata": {},
   "outputs": [],
   "source": [
    "save3 <- save2[rownames(subset(save2,자치구!='합계')),]"
   ]
  },
  {
   "cell_type": "code",
   "execution_count": 20,
   "id": "67fd468c",
   "metadata": {},
   "outputs": [
    {
     "data": {
      "text/html": [
       "<table>\n",
       "<thead><tr><th></th><th scope=col>기간</th><th scope=col>자치구</th><th scope=col>총인구</th><th scope=col>남성</th><th scope=col>여성</th></tr></thead>\n",
       "<tbody>\n",
       "\t<tr><th scope=row>4</th><td>2016.1/4</td><td>종로구  </td><td>163,993 </td><td>80,548  </td><td>83,445  </td></tr>\n",
       "\t<tr><th scope=row>5</th><td>2016.1/4</td><td>중구    </td><td>134,436 </td><td>66,747  </td><td>67,689  </td></tr>\n",
       "\t<tr><th scope=row>6</th><td>2016.1/4</td><td>용산구  </td><td>247,297 </td><td>120,607 </td><td>126,690 </td></tr>\n",
       "\t<tr><th scope=row>7</th><td>2016.1/4</td><td>성동구  </td><td>304,565 </td><td>151,019 </td><td>153,546 </td></tr>\n",
       "\t<tr><th scope=row>8</th><td>2016.1/4</td><td>광진구  </td><td>374,798 </td><td>182,951 </td><td>191,847 </td></tr>\n",
       "\t<tr><th scope=row>9</th><td>2016.1/4</td><td>동대문구</td><td>373,657 </td><td>185,627 </td><td>188,030 </td></tr>\n",
       "</tbody>\n",
       "</table>\n"
      ],
      "text/latex": [
       "\\begin{tabular}{r|lllll}\n",
       "  & 기간 & 자치구 & 총인구 & 남성 & 여성\\\\\n",
       "\\hline\n",
       "\t4 & 2016.1/4 & 종로구   & 163,993  & 80,548   & 83,445  \\\\\n",
       "\t5 & 2016.1/4 & 중구     & 134,436  & 66,747   & 67,689  \\\\\n",
       "\t6 & 2016.1/4 & 용산구   & 247,297  & 120,607  & 126,690 \\\\\n",
       "\t7 & 2016.1/4 & 성동구   & 304,565  & 151,019  & 153,546 \\\\\n",
       "\t8 & 2016.1/4 & 광진구   & 374,798  & 182,951  & 191,847 \\\\\n",
       "\t9 & 2016.1/4 & 동대문구 & 373,657  & 185,627  & 188,030 \\\\\n",
       "\\end{tabular}\n"
      ],
      "text/markdown": [
       "\n",
       "| <!--/--> | 기간 | 자치구 | 총인구 | 남성 | 여성 |\n",
       "|---|---|---|---|---|---|\n",
       "| 4 | 2016.1/4 | 종로구   | 163,993  | 80,548   | 83,445   |\n",
       "| 5 | 2016.1/4 | 중구     | 134,436  | 66,747   | 67,689   |\n",
       "| 6 | 2016.1/4 | 용산구   | 247,297  | 120,607  | 126,690  |\n",
       "| 7 | 2016.1/4 | 성동구   | 304,565  | 151,019  | 153,546  |\n",
       "| 8 | 2016.1/4 | 광진구   | 374,798  | 182,951  | 191,847  |\n",
       "| 9 | 2016.1/4 | 동대문구 | 373,657  | 185,627  | 188,030  |\n",
       "\n"
      ],
      "text/plain": [
       "  기간     자치구   총인구  남성    여성   \n",
       "4 2016.1/4 종로구   163,993 80,548  83,445 \n",
       "5 2016.1/4 중구     134,436 66,747  67,689 \n",
       "6 2016.1/4 용산구   247,297 120,607 126,690\n",
       "7 2016.1/4 성동구   304,565 151,019 153,546\n",
       "8 2016.1/4 광진구   374,798 182,951 191,847\n",
       "9 2016.1/4 동대문구 373,657 185,627 188,030"
      ]
     },
     "metadata": {},
     "output_type": "display_data"
    }
   ],
   "source": [
    "head(save3)"
   ]
  },
  {
   "cell_type": "code",
   "execution_count": 21,
   "id": "28b59c9e",
   "metadata": {},
   "outputs": [],
   "source": [
    "rownames(save3)<- c()"
   ]
  },
  {
   "cell_type": "code",
   "execution_count": 24,
   "id": "48d85578",
   "metadata": {},
   "outputs": [],
   "source": [
    "for (i in 3: ncol(save3)){ \n",
    "    save3[,i] <- as.numeric(str_replace_all(as.character(save3[,i]),',',''))\n",
    "\n",
    "}"
   ]
  },
  {
   "cell_type": "code",
   "execution_count": 25,
   "id": "f180aa6a",
   "metadata": {},
   "outputs": [
    {
     "name": "stdout",
     "output_type": "stream",
     "text": [
      "'data.frame':\t500 obs. of  5 variables:\n",
      " $ 기간  : Factor w/ 21 levels \"2016.1/4\",\"2016.2/4\",..: 1 1 1 1 1 1 1 1 1 1 ...\n",
      " $ 자치구: Factor w/ 27 levels \"강남구\",\"강동구\",..: 24 25 21 16 6 11 26 17 3 10 ...\n",
      " $ 총인구: num  163993 134436 247297 304565 374798 ...\n",
      " $ 남성  : num  80548 66747 120607 151019 182951 ...\n",
      " $ 여성  : num  83445 67689 126690 153546 191847 ...\n"
     ]
    }
   ],
   "source": [
    "str(save3)"
   ]
  },
  {
   "cell_type": "code",
   "execution_count": 28,
   "id": "c18afaf0",
   "metadata": {},
   "outputs": [],
   "source": [
    "for (i in 1:2){ \n",
    "    save3[,i] <- factor(save3[,i])\n",
    "}"
   ]
  },
  {
   "cell_type": "code",
   "execution_count": 29,
   "id": "457cd05f",
   "metadata": {
    "scrolled": true
   },
   "outputs": [
    {
     "name": "stdout",
     "output_type": "stream",
     "text": [
      "'data.frame':\t500 obs. of  5 variables:\n",
      " $ 기간  : Factor w/ 20 levels \"2016.1/4\",\"2016.2/4\",..: 1 1 1 1 1 1 1 1 1 1 ...\n",
      " $ 자치구: Factor w/ 25 levels \"강남구\",\"강동구\",..: 23 24 21 16 6 11 25 17 3 10 ...\n",
      " $ 총인구: num  163993 134436 247297 304565 374798 ...\n",
      " $ 남성  : num  80548 66747 120607 151019 182951 ...\n",
      " $ 여성  : num  83445 67689 126690 153546 191847 ...\n"
     ]
    }
   ],
   "source": [
    "str(save3)"
   ]
  },
  {
   "cell_type": "code",
   "execution_count": 33,
   "id": "a4797f6f",
   "metadata": {},
   "outputs": [
    {
     "data": {
      "text/html": [
       "<table>\n",
       "<thead><tr><th scope=col>기간</th><th scope=col>자치구</th><th scope=col>총인구</th><th scope=col>남성</th><th scope=col>여성</th></tr></thead>\n",
       "<tbody>\n",
       "\t<tr><td>2016.1/4</td><td>송파구  </td><td>663904  </td><td>324076  </td><td>339828  </td></tr>\n",
       "\t<tr><td>2016.1/4</td><td>강서구  </td><td>597473  </td><td>291883  </td><td>305590  </td></tr>\n",
       "\t<tr><td>2016.1/4</td><td>강남구  </td><td>578862  </td><td>277575  </td><td>301287  </td></tr>\n",
       "\t<tr><td>2016.1/4</td><td>노원구  </td><td>577805  </td><td>281431  </td><td>296374  </td></tr>\n",
       "\t<tr><td>2016.1/4</td><td>관악구  </td><td>530072  </td><td>267390  </td><td>262682  </td></tr>\n",
       "\t<tr><td>2016.1/4</td><td>은평구  </td><td>501242  </td><td>244103  </td><td>257139  </td></tr>\n",
       "</tbody>\n",
       "</table>\n"
      ],
      "text/latex": [
       "\\begin{tabular}{r|lllll}\n",
       " 기간 & 자치구 & 총인구 & 남성 & 여성\\\\\n",
       "\\hline\n",
       "\t 2016.1/4 & 송파구   & 663904   & 324076   & 339828  \\\\\n",
       "\t 2016.1/4 & 강서구   & 597473   & 291883   & 305590  \\\\\n",
       "\t 2016.1/4 & 강남구   & 578862   & 277575   & 301287  \\\\\n",
       "\t 2016.1/4 & 노원구   & 577805   & 281431   & 296374  \\\\\n",
       "\t 2016.1/4 & 관악구   & 530072   & 267390   & 262682  \\\\\n",
       "\t 2016.1/4 & 은평구   & 501242   & 244103   & 257139  \\\\\n",
       "\\end{tabular}\n"
      ],
      "text/markdown": [
       "\n",
       "| 기간 | 자치구 | 총인구 | 남성 | 여성 |\n",
       "|---|---|---|---|---|\n",
       "| 2016.1/4 | 송파구   | 663904   | 324076   | 339828   |\n",
       "| 2016.1/4 | 강서구   | 597473   | 291883   | 305590   |\n",
       "| 2016.1/4 | 강남구   | 578862   | 277575   | 301287   |\n",
       "| 2016.1/4 | 노원구   | 577805   | 281431   | 296374   |\n",
       "| 2016.1/4 | 관악구   | 530072   | 267390   | 262682   |\n",
       "| 2016.1/4 | 은평구   | 501242   | 244103   | 257139   |\n",
       "\n"
      ],
      "text/plain": [
       "  기간     자치구 총인구 남성   여성  \n",
       "1 2016.1/4 송파구 663904 324076 339828\n",
       "2 2016.1/4 강서구 597473 291883 305590\n",
       "3 2016.1/4 강남구 578862 277575 301287\n",
       "4 2016.1/4 노원구 577805 281431 296374\n",
       "5 2016.1/4 관악구 530072 267390 262682\n",
       "6 2016.1/4 은평구 501242 244103 257139"
      ]
     },
     "metadata": {},
     "output_type": "display_data"
    },
    {
     "data": {
      "text/html": [
       "<table>\n",
       "<thead><tr><th scope=col>기간</th><th scope=col>자치구</th><th scope=col>총인구</th><th scope=col>남성</th><th scope=col>여성</th></tr></thead>\n",
       "<tbody>\n",
       "\t<tr><td>2016.1/4</td><td>중구    </td><td>134436  </td><td> 66747  </td><td> 67689  </td></tr>\n",
       "\t<tr><td>2016.1/4</td><td>종로구  </td><td>163993  </td><td> 80548  </td><td> 83445  </td></tr>\n",
       "\t<tr><td>2016.1/4</td><td>용산구  </td><td>247297  </td><td>120607  </td><td>126690  </td></tr>\n",
       "\t<tr><td>2016.1/4</td><td>금천구  </td><td>255274  </td><td>130794  </td><td>124480  </td></tr>\n",
       "\t<tr><td>2016.1/4</td><td>성동구  </td><td>304565  </td><td>151019  </td><td>153546  </td></tr>\n",
       "\t<tr><td>2016.1/4</td><td>서대문구</td><td>326746  </td><td>157763  </td><td>168983  </td></tr>\n",
       "</tbody>\n",
       "</table>\n"
      ],
      "text/latex": [
       "\\begin{tabular}{r|lllll}\n",
       " 기간 & 자치구 & 총인구 & 남성 & 여성\\\\\n",
       "\\hline\n",
       "\t 2016.1/4 & 중구     & 134436   &  66747   &  67689  \\\\\n",
       "\t 2016.1/4 & 종로구   & 163993   &  80548   &  83445  \\\\\n",
       "\t 2016.1/4 & 용산구   & 247297   & 120607   & 126690  \\\\\n",
       "\t 2016.1/4 & 금천구   & 255274   & 130794   & 124480  \\\\\n",
       "\t 2016.1/4 & 성동구   & 304565   & 151019   & 153546  \\\\\n",
       "\t 2016.1/4 & 서대문구 & 326746   & 157763   & 168983  \\\\\n",
       "\\end{tabular}\n"
      ],
      "text/markdown": [
       "\n",
       "| 기간 | 자치구 | 총인구 | 남성 | 여성 |\n",
       "|---|---|---|---|---|\n",
       "| 2016.1/4 | 중구     | 134436   |  66747   |  67689   |\n",
       "| 2016.1/4 | 종로구   | 163993   |  80548   |  83445   |\n",
       "| 2016.1/4 | 용산구   | 247297   | 120607   | 126690   |\n",
       "| 2016.1/4 | 금천구   | 255274   | 130794   | 124480   |\n",
       "| 2016.1/4 | 성동구   | 304565   | 151019   | 153546   |\n",
       "| 2016.1/4 | 서대문구 | 326746   | 157763   | 168983   |\n",
       "\n"
      ],
      "text/plain": [
       "  기간     자치구   총인구 남성   여성  \n",
       "1 2016.1/4 중구     134436  66747  67689\n",
       "2 2016.1/4 종로구   163993  80548  83445\n",
       "3 2016.1/4 용산구   247297 120607 126690\n",
       "4 2016.1/4 금천구   255274 130794 124480\n",
       "5 2016.1/4 성동구   304565 151019 153546\n",
       "6 2016.1/4 서대문구 326746 157763 168983"
      ]
     },
     "metadata": {},
     "output_type": "display_data"
    }
   ],
   "source": [
    "head(arrange(save3,기간,desc(총인구)))\n",
    "head(arrange(save3,기간,총인구))"
   ]
  },
  {
   "cell_type": "code",
   "execution_count": 39,
   "id": "649a2969",
   "metadata": {},
   "outputs": [
    {
     "data": {
      "text/html": [
       "<table>\n",
       "<thead><tr><th scope=col>기간</th><th scope=col>자치구</th><th scope=col>총인구</th><th scope=col>남성</th><th scope=col>여성</th></tr></thead>\n",
       "<tbody>\n",
       "\t<tr><td>2016.1/4</td><td>중구    </td><td>134436  </td><td> 66747  </td><td> 67689  </td></tr>\n",
       "\t<tr><td>2016.1/4</td><td>송파구  </td><td>663904  </td><td>324076  </td><td>339828  </td></tr>\n",
       "\t<tr><td>2016.2/4</td><td>중구    </td><td>134175  </td><td> 66582  </td><td> 67593  </td></tr>\n",
       "\t<tr><td>2016.2/4</td><td>송파구  </td><td>662605  </td><td>323355  </td><td>339250  </td></tr>\n",
       "\t<tr><td>2016.3/4</td><td>중구    </td><td>134463  </td><td> 66701  </td><td> 67762  </td></tr>\n",
       "\t<tr><td>2016.3/4</td><td>송파구  </td><td>662413  </td><td>323007  </td><td>339406  </td></tr>\n",
       "</tbody>\n",
       "</table>\n"
      ],
      "text/latex": [
       "\\begin{tabular}{r|lllll}\n",
       " 기간 & 자치구 & 총인구 & 남성 & 여성\\\\\n",
       "\\hline\n",
       "\t 2016.1/4 & 중구     & 134436   &  66747   &  67689  \\\\\n",
       "\t 2016.1/4 & 송파구   & 663904   & 324076   & 339828  \\\\\n",
       "\t 2016.2/4 & 중구     & 134175   &  66582   &  67593  \\\\\n",
       "\t 2016.2/4 & 송파구   & 662605   & 323355   & 339250  \\\\\n",
       "\t 2016.3/4 & 중구     & 134463   &  66701   &  67762  \\\\\n",
       "\t 2016.3/4 & 송파구   & 662413   & 323007   & 339406  \\\\\n",
       "\\end{tabular}\n"
      ],
      "text/markdown": [
       "\n",
       "| 기간 | 자치구 | 총인구 | 남성 | 여성 |\n",
       "|---|---|---|---|---|\n",
       "| 2016.1/4 | 중구     | 134436   |  66747   |  67689   |\n",
       "| 2016.1/4 | 송파구   | 663904   | 324076   | 339828   |\n",
       "| 2016.2/4 | 중구     | 134175   |  66582   |  67593   |\n",
       "| 2016.2/4 | 송파구   | 662605   | 323355   | 339250   |\n",
       "| 2016.3/4 | 중구     | 134463   |  66701   |  67762   |\n",
       "| 2016.3/4 | 송파구   | 662413   | 323007   | 339406   |\n",
       "\n"
      ],
      "text/plain": [
       "  기간     자치구 총인구 남성   여성  \n",
       "1 2016.1/4 중구   134436  66747  67689\n",
       "2 2016.1/4 송파구 663904 324076 339828\n",
       "3 2016.2/4 중구   134175  66582  67593\n",
       "4 2016.2/4 송파구 662605 323355 339250\n",
       "5 2016.3/4 중구   134463  66701  67762\n",
       "6 2016.3/4 송파구 662413 323007 339406"
      ]
     },
     "metadata": {},
     "output_type": "display_data"
    },
    {
     "data": {
      "text/html": [
       "<table>\n",
       "<thead><tr><th></th><th scope=col>기간</th><th scope=col>자치구</th><th scope=col>총인구</th><th scope=col>남성</th><th scope=col>여성</th></tr></thead>\n",
       "<tbody>\n",
       "\t<tr><th scope=row>35</th><td>2020.2/4</td><td>중구    </td><td>136030  </td><td> 66545  </td><td> 69485  </td></tr>\n",
       "\t<tr><th scope=row>36</th><td>2020.2/4</td><td>송파구  </td><td>678067  </td><td>327383  </td><td>350684  </td></tr>\n",
       "\t<tr><th scope=row>37</th><td>2020.3/4</td><td>중구    </td><td>135321  </td><td> 66193  </td><td> 69128  </td></tr>\n",
       "\t<tr><th scope=row>38</th><td>2020.3/4</td><td>송파구  </td><td>676673  </td><td>326602  </td><td>350071  </td></tr>\n",
       "\t<tr><th scope=row>39</th><td>2020.4/4</td><td>중구    </td><td>134635  </td><td> 65776  </td><td> 68859  </td></tr>\n",
       "\t<tr><th scope=row>40</th><td>2020.4/4</td><td>송파구  </td><td>673926  </td><td>325080  </td><td>348846  </td></tr>\n",
       "</tbody>\n",
       "</table>\n"
      ],
      "text/latex": [
       "\\begin{tabular}{r|lllll}\n",
       "  & 기간 & 자치구 & 총인구 & 남성 & 여성\\\\\n",
       "\\hline\n",
       "\t35 & 2020.2/4 & 중구     & 136030   &  66545   &  69485  \\\\\n",
       "\t36 & 2020.2/4 & 송파구   & 678067   & 327383   & 350684  \\\\\n",
       "\t37 & 2020.3/4 & 중구     & 135321   &  66193   &  69128  \\\\\n",
       "\t38 & 2020.3/4 & 송파구   & 676673   & 326602   & 350071  \\\\\n",
       "\t39 & 2020.4/4 & 중구     & 134635   &  65776   &  68859  \\\\\n",
       "\t40 & 2020.4/4 & 송파구   & 673926   & 325080   & 348846  \\\\\n",
       "\\end{tabular}\n"
      ],
      "text/markdown": [
       "\n",
       "| <!--/--> | 기간 | 자치구 | 총인구 | 남성 | 여성 |\n",
       "|---|---|---|---|---|---|\n",
       "| 35 | 2020.2/4 | 중구     | 136030   |  66545   |  69485   |\n",
       "| 36 | 2020.2/4 | 송파구   | 678067   | 327383   | 350684   |\n",
       "| 37 | 2020.3/4 | 중구     | 135321   |  66193   |  69128   |\n",
       "| 38 | 2020.3/4 | 송파구   | 676673   | 326602   | 350071   |\n",
       "| 39 | 2020.4/4 | 중구     | 134635   |  65776   |  68859   |\n",
       "| 40 | 2020.4/4 | 송파구   | 673926   | 325080   | 348846   |\n",
       "\n"
      ],
      "text/plain": [
       "   기간     자치구 총인구 남성   여성  \n",
       "35 2020.2/4 중구   136030  66545  69485\n",
       "36 2020.2/4 송파구 678067 327383 350684\n",
       "37 2020.3/4 중구   135321  66193  69128\n",
       "38 2020.3/4 송파구 676673 326602 350071\n",
       "39 2020.4/4 중구   134635  65776  68859\n",
       "40 2020.4/4 송파구 673926 325080 348846"
      ]
     },
     "metadata": {},
     "output_type": "display_data"
    },
    {
     "data": {
      "image/png": "[encoded data removed]",
      "text/plain": [
       "Plot with title “송파구와 중구”"
      ]
     },
     "metadata": {},
     "output_type": "display_data"
    }
   ],
   "source": [
    "seoul.double <- subset(save3,자치구 == \"중구\" | 자치구 == \"송파구\")\n",
    "rownames(seoul.double) <- c()\n",
    "head(seoul.double)\n",
    "tail(seoul.double)\n",
    "# for mac\n",
    "options(warn = -1)\n",
    "par(family = \"AppleGothic\")\n",
    "\n",
    "# 지수 없애기\n",
    "options(scipen = 100)\n",
    "plot(seoul.double$남성,seoul.double$여성,\n",
    "#     xlim = c(0,400),\n",
    "#     ylim = c(0,600),\n",
    "     col = ifelse(seoul.double$총인구 >= 500000,'blue','red'),\n",
    "     xlab = \"남성\",\n",
    "     ylab = \"여성\",\n",
    "     main = \"송파구와 중구\",\n",
    "    )"
   ]
  },
  {
   "cell_type": "code",
   "execution_count": 41,
   "id": "d58d4102",
   "metadata": {},
   "outputs": [],
   "source": [
    "save4 <- arrange(save3,기간,자치구)"
   ]
  },
  {
   "cell_type": "code",
   "execution_count": 43,
   "id": "fdf9bfe2",
   "metadata": {},
   "outputs": [],
   "source": [
    "save4$기간<-substring(save4$기간,1,4)"
   ]
  },
  {
   "cell_type": "code",
   "execution_count": 44,
   "id": "a950d4e0",
   "metadata": {},
   "outputs": [
    {
     "data": {
      "text/html": [
       "<table>\n",
       "<thead><tr><th scope=col>기간</th><th scope=col>자치구</th><th scope=col>총인구</th><th scope=col>여성</th><th scope=col>남성</th></tr></thead>\n",
       "<tbody>\n",
       "\t<tr><td>2016   </td><td>강남구 </td><td>2302389</td><td>1198792</td><td>1103597</td></tr>\n",
       "\t<tr><td>2016   </td><td>강동구 </td><td>1815964</td><td> 912204</td><td> 903760</td></tr>\n",
       "\t<tr><td>2016   </td><td>강북구 </td><td>1329172</td><td> 676952</td><td> 652220</td></tr>\n",
       "\t<tr><td>2016   </td><td>강서구 </td><td>2397378</td><td>1227021</td><td>1170357</td></tr>\n",
       "\t<tr><td>2016   </td><td>관악구 </td><td>2113120</td><td>1047205</td><td>1065915</td></tr>\n",
       "\t<tr><td>2016   </td><td>광진구 </td><td>1494635</td><td> 765831</td><td> 728804</td></tr>\n",
       "</tbody>\n",
       "</table>\n"
      ],
      "text/latex": [
       "\\begin{tabular}{r|lllll}\n",
       " 기간 & 자치구 & 총인구 & 여성 & 남성\\\\\n",
       "\\hline\n",
       "\t 2016    & 강남구  & 2302389 & 1198792 & 1103597\\\\\n",
       "\t 2016    & 강동구  & 1815964 &  912204 &  903760\\\\\n",
       "\t 2016    & 강북구  & 1329172 &  676952 &  652220\\\\\n",
       "\t 2016    & 강서구  & 2397378 & 1227021 & 1170357\\\\\n",
       "\t 2016    & 관악구  & 2113120 & 1047205 & 1065915\\\\\n",
       "\t 2016    & 광진구  & 1494635 &  765831 &  728804\\\\\n",
       "\\end{tabular}\n"
      ],
      "text/markdown": [
       "\n",
       "| 기간 | 자치구 | 총인구 | 여성 | 남성 |\n",
       "|---|---|---|---|---|\n",
       "| 2016    | 강남구  | 2302389 | 1198792 | 1103597 |\n",
       "| 2016    | 강동구  | 1815964 |  912204 |  903760 |\n",
       "| 2016    | 강북구  | 1329172 |  676952 |  652220 |\n",
       "| 2016    | 강서구  | 2397378 | 1227021 | 1170357 |\n",
       "| 2016    | 관악구  | 2113120 | 1047205 | 1065915 |\n",
       "| 2016    | 광진구  | 1494635 |  765831 |  728804 |\n",
       "\n"
      ],
      "text/plain": [
       "  기간 자치구 총인구  여성    남성   \n",
       "1 2016 강남구 2302389 1198792 1103597\n",
       "2 2016 강동구 1815964  912204  903760\n",
       "3 2016 강북구 1329172  676952  652220\n",
       "4 2016 강서구 2397378 1227021 1170357\n",
       "5 2016 관악구 2113120 1047205 1065915\n",
       "6 2016 광진구 1494635  765831  728804"
      ]
     },
     "metadata": {},
     "output_type": "display_data"
    },
    {
     "data": {
      "text/html": [
       "<table>\n",
       "<thead><tr><th></th><th scope=col>기간</th><th scope=col>자치구</th><th scope=col>총인구</th><th scope=col>여성</th><th scope=col>남성</th></tr></thead>\n",
       "<tbody>\n",
       "\t<tr><th scope=row>120</th><td>2020    </td><td>영등포구</td><td>1623269 </td><td> 812411 </td><td>810858  </td></tr>\n",
       "\t<tr><th scope=row>121</th><td>2020    </td><td>용산구  </td><td> 981125 </td><td> 503761 </td><td>477364  </td></tr>\n",
       "\t<tr><th scope=row>122</th><td>2020    </td><td>은평구  </td><td>1936332 </td><td>1006854 </td><td>929478  </td></tr>\n",
       "\t<tr><th scope=row>123</th><td>2020    </td><td>종로구  </td><td> 641342 </td><td> 331059 </td><td>310283  </td></tr>\n",
       "\t<tr><th scope=row>124</th><td>2020    </td><td>중구    </td><td> 542455 </td><td> 277172 </td><td>265283  </td></tr>\n",
       "\t<tr><th scope=row>125</th><td>2020    </td><td>중랑구  </td><td>1600644 </td><td> 810008 </td><td>790636  </td></tr>\n",
       "</tbody>\n",
       "</table>\n"
      ],
      "text/latex": [
       "\\begin{tabular}{r|lllll}\n",
       "  & 기간 & 자치구 & 총인구 & 여성 & 남성\\\\\n",
       "\\hline\n",
       "\t120 & 2020     & 영등포구 & 1623269  &  812411  & 810858  \\\\\n",
       "\t121 & 2020     & 용산구   &  981125  &  503761  & 477364  \\\\\n",
       "\t122 & 2020     & 은평구   & 1936332  & 1006854  & 929478  \\\\\n",
       "\t123 & 2020     & 종로구   &  641342  &  331059  & 310283  \\\\\n",
       "\t124 & 2020     & 중구     &  542455  &  277172  & 265283  \\\\\n",
       "\t125 & 2020     & 중랑구   & 1600644  &  810008  & 790636  \\\\\n",
       "\\end{tabular}\n"
      ],
      "text/markdown": [
       "\n",
       "| <!--/--> | 기간 | 자치구 | 총인구 | 여성 | 남성 |\n",
       "|---|---|---|---|---|---|\n",
       "| 120 | 2020     | 영등포구 | 1623269  |  812411  | 810858   |\n",
       "| 121 | 2020     | 용산구   |  981125  |  503761  | 477364   |\n",
       "| 122 | 2020     | 은평구   | 1936332  | 1006854  | 929478   |\n",
       "| 123 | 2020     | 종로구   |  641342  |  331059  | 310283   |\n",
       "| 124 | 2020     | 중구     |  542455  |  277172  | 265283   |\n",
       "| 125 | 2020     | 중랑구   | 1600644  |  810008  | 790636   |\n",
       "\n"
      ],
      "text/plain": [
       "    기간 자치구   총인구  여성    남성  \n",
       "120 2020 영등포구 1623269  812411 810858\n",
       "121 2020 용산구    981125  503761 477364\n",
       "122 2020 은평구   1936332 1006854 929478\n",
       "123 2020 종로구    641342  331059 310283\n",
       "124 2020 중구      542455  277172 265283\n",
       "125 2020 중랑구   1600644  810008 790636"
      ]
     },
     "metadata": {},
     "output_type": "display_data"
    }
   ],
   "source": [
    "temp <- c()\n",
    "cul <- c()\n",
    "for(i in 2016:2020){\n",
    "    총인구<-aggregate(총인구 ~ 자치구, data = subset(save4,기간==i),sum)\n",
    "    여성<-aggregate(여성 ~ 자치구, data = subset(save4,기간==i),sum)[,2]\n",
    "    남성<-aggregate(남성 ~ 자치구, data = subset(save4,기간==i),sum)[,2]\n",
    "    cul<-cbind('기간'=i,총인구,여성,남성)\n",
    "    temp <- rbind(temp,cul)\n",
    "}\n",
    "head(temp)\n",
    "tail(temp)\n",
    "save5<-temp"
   ]
  },
  {
   "cell_type": "code",
   "execution_count": 45,
   "id": "1be96a56",
   "metadata": {},
   "outputs": [
    {
     "data": {
      "text/html": [
       "<table>\n",
       "<thead><tr><th scope=col>기간</th><th scope=col>자치구</th><th scope=col>총인구</th><th scope=col>여성</th><th scope=col>남성</th></tr></thead>\n",
       "<tbody>\n",
       "\t<tr><td>2016   </td><td>송파구 </td><td>2653868</td><td>1359343</td><td>1294525</td></tr>\n",
       "\t<tr><td>2016   </td><td>강서구 </td><td>2397378</td><td>1227021</td><td>1170357</td></tr>\n",
       "\t<tr><td>2016   </td><td>강남구 </td><td>2302389</td><td>1198792</td><td>1103597</td></tr>\n",
       "\t<tr><td>2016   </td><td>노원구 </td><td>2300297</td><td>1180701</td><td>1119596</td></tr>\n",
       "\t<tr><td>2016   </td><td>관악구 </td><td>2113120</td><td>1047205</td><td>1065915</td></tr>\n",
       "\t<tr><td>2016   </td><td>은평구 </td><td>1995543</td><td>1024655</td><td> 970888</td></tr>\n",
       "</tbody>\n",
       "</table>\n"
      ],
      "text/latex": [
       "\\begin{tabular}{r|lllll}\n",
       " 기간 & 자치구 & 총인구 & 여성 & 남성\\\\\n",
       "\\hline\n",
       "\t 2016    & 송파구  & 2653868 & 1359343 & 1294525\\\\\n",
       "\t 2016    & 강서구  & 2397378 & 1227021 & 1170357\\\\\n",
       "\t 2016    & 강남구  & 2302389 & 1198792 & 1103597\\\\\n",
       "\t 2016    & 노원구  & 2300297 & 1180701 & 1119596\\\\\n",
       "\t 2016    & 관악구  & 2113120 & 1047205 & 1065915\\\\\n",
       "\t 2016    & 은평구  & 1995543 & 1024655 &  970888\\\\\n",
       "\\end{tabular}\n"
      ],
      "text/markdown": [
       "\n",
       "| 기간 | 자치구 | 총인구 | 여성 | 남성 |\n",
       "|---|---|---|---|---|\n",
       "| 2016    | 송파구  | 2653868 | 1359343 | 1294525 |\n",
       "| 2016    | 강서구  | 2397378 | 1227021 | 1170357 |\n",
       "| 2016    | 강남구  | 2302389 | 1198792 | 1103597 |\n",
       "| 2016    | 노원구  | 2300297 | 1180701 | 1119596 |\n",
       "| 2016    | 관악구  | 2113120 | 1047205 | 1065915 |\n",
       "| 2016    | 은평구  | 1995543 | 1024655 |  970888 |\n",
       "\n"
      ],
      "text/plain": [
       "  기간 자치구 총인구  여성    남성   \n",
       "1 2016 송파구 2653868 1359343 1294525\n",
       "2 2016 강서구 2397378 1227021 1170357\n",
       "3 2016 강남구 2302389 1198792 1103597\n",
       "4 2016 노원구 2300297 1180701 1119596\n",
       "5 2016 관악구 2113120 1047205 1065915\n",
       "6 2016 은평구 1995543 1024655  970888"
      ]
     },
     "metadata": {},
     "output_type": "display_data"
    },
    {
     "data": {
      "text/html": [
       "<table>\n",
       "<thead><tr><th scope=col>기간</th><th scope=col>자치구</th><th scope=col>총인구</th><th scope=col>여성</th><th scope=col>남성</th></tr></thead>\n",
       "<tbody>\n",
       "\t<tr><td>2016    </td><td>중구    </td><td> 537483 </td><td>271001  </td><td>266482  </td></tr>\n",
       "\t<tr><td>2016    </td><td>종로구  </td><td> 652107 </td><td>332272  </td><td>319835  </td></tr>\n",
       "\t<tr><td>2016    </td><td>용산구  </td><td> 985650 </td><td>504651  </td><td>480999  </td></tr>\n",
       "\t<tr><td>2016    </td><td>금천구  </td><td>1018257 </td><td>496642  </td><td>521615  </td></tr>\n",
       "\t<tr><td>2016    </td><td>성동구  </td><td>1222757 </td><td>616937  </td><td>605820  </td></tr>\n",
       "\t<tr><td>2016    </td><td>서대문구</td><td>1306089 </td><td>677076  </td><td>629013  </td></tr>\n",
       "</tbody>\n",
       "</table>\n"
      ],
      "text/latex": [
       "\\begin{tabular}{r|lllll}\n",
       " 기간 & 자치구 & 총인구 & 여성 & 남성\\\\\n",
       "\\hline\n",
       "\t 2016     & 중구     &  537483  & 271001   & 266482  \\\\\n",
       "\t 2016     & 종로구   &  652107  & 332272   & 319835  \\\\\n",
       "\t 2016     & 용산구   &  985650  & 504651   & 480999  \\\\\n",
       "\t 2016     & 금천구   & 1018257  & 496642   & 521615  \\\\\n",
       "\t 2016     & 성동구   & 1222757  & 616937   & 605820  \\\\\n",
       "\t 2016     & 서대문구 & 1306089  & 677076   & 629013  \\\\\n",
       "\\end{tabular}\n"
      ],
      "text/markdown": [
       "\n",
       "| 기간 | 자치구 | 총인구 | 여성 | 남성 |\n",
       "|---|---|---|---|---|\n",
       "| 2016     | 중구     |  537483  | 271001   | 266482   |\n",
       "| 2016     | 종로구   |  652107  | 332272   | 319835   |\n",
       "| 2016     | 용산구   |  985650  | 504651   | 480999   |\n",
       "| 2016     | 금천구   | 1018257  | 496642   | 521615   |\n",
       "| 2016     | 성동구   | 1222757  | 616937   | 605820   |\n",
       "| 2016     | 서대문구 | 1306089  | 677076   | 629013   |\n",
       "\n"
      ],
      "text/plain": [
       "  기간 자치구   총인구  여성   남성  \n",
       "1 2016 중구      537483 271001 266482\n",
       "2 2016 종로구    652107 332272 319835\n",
       "3 2016 용산구    985650 504651 480999\n",
       "4 2016 금천구   1018257 496642 521615\n",
       "5 2016 성동구   1222757 616937 605820\n",
       "6 2016 서대문구 1306089 677076 629013"
      ]
     },
     "metadata": {},
     "output_type": "display_data"
    }
   ],
   "source": [
    "head(arrange(save5,기간,desc(총인구)))\n",
    "head(arrange(save5,기간,총인구))"
   ]
  },
  {
   "cell_type": "code",
   "execution_count": 46,
   "id": "208c874e",
   "metadata": {},
   "outputs": [],
   "source": [
    "write.csv(save3,\"../Data/주민등록인구_거주자인구_분기별.csv\",row.names=F)\n",
    "write.csv(save5,\"../Data/주민등록인구_거주자인구_연별.csv\",row.names=F)"
   ]
  },
  {
   "cell_type": "code",
   "execution_count": null,
   "id": "cb705d4f",
   "metadata": {},
   "outputs": [],
   "source": []
  }
 ],
 "metadata": {
  "kernelspec": {
   "display_name": "R",
   "language": "R",
   "name": "ir"
  },
  "language_info": {
   "codemirror_mode": "r",
   "file_extension": ".r",
   "mimetype": "text/x-r-source",
   "name": "R",
   "pygments_lexer": "r",
   "version": "3.6.1"
  }
 },
 "nbformat": 4,
 "nbformat_minor": 5
}

{
 "cells": [
  {
   "cell_type": "code",
   "execution_count": 1,
   "id": "ab5ea59d",
   "metadata": {},
   "outputs": [],
   "source": [
    "library(stringr)"
   ]
  },
  {
   "cell_type": "code",
   "execution_count": 2,
   "id": "033dd569",
   "metadata": {},
   "outputs": [
    {
     "data": {
      "text/html": [
       "<table>\n",
       "<thead><tr><th scope=col>V1</th><th scope=col>V2</th><th scope=col>V3</th><th scope=col>V4</th><th scope=col>V5</th></tr></thead>\n",
       "<tbody>\n",
       "\t<tr><td>통계표               </td><td>18.1.6.3 국제상품가격</td><td>18.1.6.3 국제상품가격</td><td>18.1.6.3 국제상품가격</td><td>18.1.6.3 국제상품가격</td></tr>\n",
       "\t<tr><td>항목명1              </td><td>WTI(현물)            </td><td>Dubai(현물)          </td><td>Brent(현물)          </td><td>금(현물)             </td></tr>\n",
       "\t<tr><td>단위                 </td><td>U$/bbl               </td><td>U$/bbl               </td><td>U$/bbl               </td><td>$/OZ                 </td></tr>\n",
       "\t<tr><td>변환                 </td><td>원자료               </td><td>원자료               </td><td>원자료               </td><td>원자료               </td></tr>\n",
       "\t<tr><td>1995/01              </td><td>18.39                </td><td>16.53                </td><td>17.05                </td><td>375.100              </td></tr>\n",
       "\t<tr><td>1995/02              </td><td>18.49                </td><td>16.47                </td><td>17.22                </td><td>377.100              </td></tr>\n",
       "</tbody>\n",
       "</table>\n"
      ],
      "text/latex": [
       "\\begin{tabular}{r|lllll}\n",
       " V1 & V2 & V3 & V4 & V5\\\\\n",
       "\\hline\n",
       "\t 통계표                & 18.1.6.3 국제상품가격 & 18.1.6.3 국제상품가격 & 18.1.6.3 국제상품가격 & 18.1.6.3 국제상품가격\\\\\n",
       "\t 항목명1               & WTI(현물)             & Dubai(현물)           & Brent(현물)           & 금(현물)             \\\\\n",
       "\t 단위                    & U\\$/bbl                & U\\$/bbl                & U\\$/bbl                & \\$/OZ                 \\\\\n",
       "\t 변환                  & 원자료                & 원자료                & 원자료                & 원자료               \\\\\n",
       "\t 1995/01               & 18.39                 & 16.53                 & 17.05                 & 375.100              \\\\\n",
       "\t 1995/02               & 18.49                 & 16.47                 & 17.22                 & 377.100              \\\\\n",
       "\\end{tabular}\n"
      ],
      "text/markdown": [
       "\n",
       "| V1 | V2 | V3 | V4 | V5 |\n",
       "|---|---|---|---|---|\n",
       "| 통계표                | 18.1.6.3 국제상품가격 | 18.1.6.3 국제상품가격 | 18.1.6.3 국제상품가격 | 18.1.6.3 국제상품가격 |\n",
       "| 항목명1               | WTI(현물)             | Dubai(현물)           | Brent(현물)           | 금(현물)              |\n",
       "| 단위                  | U$/bbl                | U$/bbl                | U$/bbl                | $/OZ                  |\n",
       "| 변환                  | 원자료                | 원자료                | 원자료                | 원자료                |\n",
       "| 1995/01               | 18.39                 | 16.53                 | 17.05                 | 375.100               |\n",
       "| 1995/02               | 18.49                 | 16.47                 | 17.22                 | 377.100               |\n",
       "\n"
      ],
      "text/plain": [
       "  V1      V2                    V3                    V4                   \n",
       "1 통계표  18.1.6.3 국제상품가격 18.1.6.3 국제상품가격 18.1.6.3 국제상품가격\n",
       "2 항목명1 WTI(현물)             Dubai(현물)           Brent(현물)          \n",
       "3 단위    U$/bbl                U$/bbl                U$/bbl               \n",
       "4 변환    원자료                원자료                원자료               \n",
       "5 1995/01 18.39                 16.53                 17.05                \n",
       "6 1995/02 18.49                 16.47                 17.22                \n",
       "  V5                   \n",
       "1 18.1.6.3 국제상품가격\n",
       "2 금(현물)             \n",
       "3 $/OZ                 \n",
       "4 원자료               \n",
       "5 375.100              \n",
       "6 377.100              "
      ]
     },
     "metadata": {},
     "output_type": "display_data"
    }
   ],
   "source": [
    "oil.main <- read.csv('../Data/oil.csv', fileEncoding = \"euc-kr\", header = F)\n",
    "head(oil.main)"
   ]
  },
  {
   "cell_type": "code",
   "execution_count": 3,
   "id": "474e4da0",
   "metadata": {},
   "outputs": [
    {
     "data": {
      "text/html": [
       "<table>\n",
       "<thead><tr><th></th><th scope=col>V1</th><th scope=col>V2</th><th scope=col>V3</th><th scope=col>V4</th><th scope=col>V5</th></tr></thead>\n",
       "<tbody>\n",
       "\t<tr><th scope=row>325</th><td>2021/09                            </td><td>75.03                              </td><td>75.90                              </td><td>78.77                              </td><td>1,756.900                          </td></tr>\n",
       "\t<tr><th scope=row>326</th><td>2021/10                            </td><td>83.57                              </td><td>81.94                              </td><td>83.92                              </td><td>1,783.380                          </td></tr>\n",
       "\t<tr><th scope=row>327</th><td>2021/11                            </td><td>66.18                              </td><td>70.97                              </td><td>                                   </td><td>1,774.520                          </td></tr>\n",
       "\t<tr><th scope=row>328</th><td>   18.1.6.3 국제상품가격           </td><td>                                   </td><td>                                   </td><td>                                   </td><td>                                   </td></tr>\n",
       "\t<tr><th scope=row>329</th><td>통계담당 : 통계정보팀 (02-759-5317)</td><td>                                   </td><td>                                   </td><td>                                   </td><td>                                   </td></tr>\n",
       "\t<tr><th scope=row>330</th><td>주 : 자료 : 주요상품거래소         </td><td> 현물시장 기준                     </td><td> 선물은 1개월물(기말의 최종 가격)  </td><td>                                   </td><td>                                   </td></tr>\n",
       "</tbody>\n",
       "</table>\n"
      ],
      "text/latex": [
       "\\begin{tabular}{r|lllll}\n",
       "  & V1 & V2 & V3 & V4 & V5\\\\\n",
       "\\hline\n",
       "\t325 & 2021/09                             & 75.03                               & 75.90                               & 78.77                               & 1,756.900                          \\\\\n",
       "\t326 & 2021/10                             & 83.57                               & 81.94                               & 83.92                               & 1,783.380                          \\\\\n",
       "\t327 & 2021/11                             & 66.18                               & 70.97                               &                                     & 1,774.520                          \\\\\n",
       "\t328 &    18.1.6.3 국제상품가격            &                                     &                                     &                                     &                                    \\\\\n",
       "\t329 & 통계담당 : 통계정보팀 (02-759-5317) &                                     &                                     &                                     &                                    \\\\\n",
       "\t330 & 주 : 자료 : 주요상품거래소          &  현물시장 기준                      &  선물은 1개월물(기말의 최종 가격)   &                                     &                                    \\\\\n",
       "\\end{tabular}\n"
      ],
      "text/markdown": [
       "\n",
       "| <!--/--> | V1 | V2 | V3 | V4 | V5 |\n",
       "|---|---|---|---|---|---|\n",
       "| 325 | 2021/09                             | 75.03                               | 75.90                               | 78.77                               | 1,756.900                           |\n",
       "| 326 | 2021/10                             | 83.57                               | 81.94                               | 83.92                               | 1,783.380                           |\n",
       "| 327 | 2021/11                             | 66.18                               | 70.97                               |                                     | 1,774.520                           |\n",
       "| 328 |    18.1.6.3 국제상품가격            |                                     |                                     |                                     |                                     |\n",
       "| 329 | 통계담당 : 통계정보팀 (02-759-5317) |                                     |                                     |                                     |                                     |\n",
       "| 330 | 주 : 자료 : 주요상품거래소          |  현물시장 기준                      |  선물은 1개월물(기말의 최종 가격)   |                                     |                                     |\n",
       "\n"
      ],
      "text/plain": [
       "    V1                                  V2            \n",
       "325 2021/09                             75.03         \n",
       "326 2021/10                             83.57         \n",
       "327 2021/11                             66.18         \n",
       "328    18.1.6.3 국제상품가격                          \n",
       "329 통계담당 : 통계정보팀 (02-759-5317)               \n",
       "330 주 : 자료 : 주요상품거래소           현물시장 기준\n",
       "    V3                                V4    V5       \n",
       "325 75.90                             78.77 1,756.900\n",
       "326 81.94                             83.92 1,783.380\n",
       "327 70.97                                   1,774.520\n",
       "328                                                  \n",
       "329                                                  \n",
       "330  선물은 1개월물(기말의 최종 가격)                "
      ]
     },
     "metadata": {},
     "output_type": "display_data"
    }
   ],
   "source": [
    "tail(oil.main)"
   ]
  },
  {
   "cell_type": "code",
   "execution_count": 4,
   "id": "5c1fc2a1",
   "metadata": {},
   "outputs": [],
   "source": [
    "colnames(oil.main)<-c('월간','WTI','Dubai','Brent','금')"
   ]
  },
  {
   "cell_type": "code",
   "execution_count": 5,
   "id": "724105ef",
   "metadata": {},
   "outputs": [
    {
     "data": {
      "text/html": [
       "<table>\n",
       "<thead><tr><th scope=col>월간</th><th scope=col>WTI</th><th scope=col>Dubai</th><th scope=col>Brent</th><th scope=col>금</th></tr></thead>\n",
       "<tbody>\n",
       "\t<tr><td>통계표               </td><td>18.1.6.3 국제상품가격</td><td>18.1.6.3 국제상품가격</td><td>18.1.6.3 국제상품가격</td><td>18.1.6.3 국제상품가격</td></tr>\n",
       "\t<tr><td>항목명1              </td><td>WTI(현물)            </td><td>Dubai(현물)          </td><td>Brent(현물)          </td><td>금(현물)             </td></tr>\n",
       "\t<tr><td>단위                 </td><td>U$/bbl               </td><td>U$/bbl               </td><td>U$/bbl               </td><td>$/OZ                 </td></tr>\n",
       "\t<tr><td>변환                 </td><td>원자료               </td><td>원자료               </td><td>원자료               </td><td>원자료               </td></tr>\n",
       "\t<tr><td>1995/01              </td><td>18.39                </td><td>16.53                </td><td>17.05                </td><td>375.100              </td></tr>\n",
       "\t<tr><td>1995/02              </td><td>18.49                </td><td>16.47                </td><td>17.22                </td><td>377.100              </td></tr>\n",
       "</tbody>\n",
       "</table>\n"
      ],
      "text/latex": [
       "\\begin{tabular}{r|lllll}\n",
       " 월간 & WTI & Dubai & Brent & 금\\\\\n",
       "\\hline\n",
       "\t 통계표                & 18.1.6.3 국제상품가격 & 18.1.6.3 국제상품가격 & 18.1.6.3 국제상품가격 & 18.1.6.3 국제상품가격\\\\\n",
       "\t 항목명1               & WTI(현물)             & Dubai(현물)           & Brent(현물)           & 금(현물)             \\\\\n",
       "\t 단위                    & U\\$/bbl                & U\\$/bbl                & U\\$/bbl                & \\$/OZ                 \\\\\n",
       "\t 변환                  & 원자료                & 원자료                & 원자료                & 원자료               \\\\\n",
       "\t 1995/01               & 18.39                 & 16.53                 & 17.05                 & 375.100              \\\\\n",
       "\t 1995/02               & 18.49                 & 16.47                 & 17.22                 & 377.100              \\\\\n",
       "\\end{tabular}\n"
      ],
      "text/markdown": [
       "\n",
       "| 월간 | WTI | Dubai | Brent | 금 |\n",
       "|---|---|---|---|---|\n",
       "| 통계표                | 18.1.6.3 국제상품가격 | 18.1.6.3 국제상품가격 | 18.1.6.3 국제상품가격 | 18.1.6.3 국제상품가격 |\n",
       "| 항목명1               | WTI(현물)             | Dubai(현물)           | Brent(현물)           | 금(현물)              |\n",
       "| 단위                  | U$/bbl                | U$/bbl                | U$/bbl                | $/OZ                  |\n",
       "| 변환                  | 원자료                | 원자료                | 원자료                | 원자료                |\n",
       "| 1995/01               | 18.39                 | 16.53                 | 17.05                 | 375.100               |\n",
       "| 1995/02               | 18.49                 | 16.47                 | 17.22                 | 377.100               |\n",
       "\n"
      ],
      "text/plain": [
       "  월간    WTI                   Dubai                 Brent                \n",
       "1 통계표  18.1.6.3 국제상품가격 18.1.6.3 국제상품가격 18.1.6.3 국제상품가격\n",
       "2 항목명1 WTI(현물)             Dubai(현물)           Brent(현물)          \n",
       "3 단위    U$/bbl                U$/bbl                U$/bbl               \n",
       "4 변환    원자료                원자료                원자료               \n",
       "5 1995/01 18.39                 16.53                 17.05                \n",
       "6 1995/02 18.49                 16.47                 17.22                \n",
       "  금                   \n",
       "1 18.1.6.3 국제상품가격\n",
       "2 금(현물)             \n",
       "3 $/OZ                 \n",
       "4 원자료               \n",
       "5 375.100              \n",
       "6 377.100              "
      ]
     },
     "metadata": {},
     "output_type": "display_data"
    }
   ],
   "source": [
    "head(oil.main)"
   ]
  },
  {
   "cell_type": "code",
   "execution_count": 6,
   "id": "66f0718e",
   "metadata": {},
   "outputs": [
    {
     "data": {
      "text/html": [
       "<table>\n",
       "<thead><tr><th></th><th scope=col>월간</th><th scope=col>WTI</th><th scope=col>Dubai</th><th scope=col>Brent</th><th scope=col>금</th></tr></thead>\n",
       "<tbody>\n",
       "\t<tr><th scope=row>5</th><td>1995/01</td><td>18.39  </td><td>16.53  </td><td>17.05  </td><td>375.100</td></tr>\n",
       "\t<tr><th scope=row>6</th><td>1995/02</td><td>18.49  </td><td>16.47  </td><td>17.22  </td><td>377.100</td></tr>\n",
       "\t<tr><th scope=row>7</th><td>1995/03</td><td>19.17  </td><td>16.89  </td><td>18.00  </td><td>391.400</td></tr>\n",
       "\t<tr><th scope=row>8</th><td>1995/04</td><td>20.38  </td><td>17.94  </td><td>19.31  </td><td>387.100</td></tr>\n",
       "\t<tr><th scope=row>9</th><td>1995/05</td><td>18.89  </td><td>16.67  </td><td>17.67  </td><td>384.300</td></tr>\n",
       "\t<tr><th scope=row>10</th><td>1995/06</td><td>17.40  </td><td>15.34  </td><td>16.47  </td><td>384.600</td></tr>\n",
       "</tbody>\n",
       "</table>\n"
      ],
      "text/latex": [
       "\\begin{tabular}{r|lllll}\n",
       "  & 월간 & WTI & Dubai & Brent & 금\\\\\n",
       "\\hline\n",
       "\t5 & 1995/01 & 18.39   & 16.53   & 17.05   & 375.100\\\\\n",
       "\t6 & 1995/02 & 18.49   & 16.47   & 17.22   & 377.100\\\\\n",
       "\t7 & 1995/03 & 19.17   & 16.89   & 18.00   & 391.400\\\\\n",
       "\t8 & 1995/04 & 20.38   & 17.94   & 19.31   & 387.100\\\\\n",
       "\t9 & 1995/05 & 18.89   & 16.67   & 17.67   & 384.300\\\\\n",
       "\t10 & 1995/06 & 17.40   & 15.34   & 16.47   & 384.600\\\\\n",
       "\\end{tabular}\n"
      ],
      "text/markdown": [
       "\n",
       "| <!--/--> | 월간 | WTI | Dubai | Brent | 금 |\n",
       "|---|---|---|---|---|---|\n",
       "| 5 | 1995/01 | 18.39   | 16.53   | 17.05   | 375.100 |\n",
       "| 6 | 1995/02 | 18.49   | 16.47   | 17.22   | 377.100 |\n",
       "| 7 | 1995/03 | 19.17   | 16.89   | 18.00   | 391.400 |\n",
       "| 8 | 1995/04 | 20.38   | 17.94   | 19.31   | 387.100 |\n",
       "| 9 | 1995/05 | 18.89   | 16.67   | 17.67   | 384.300 |\n",
       "| 10 | 1995/06 | 17.40   | 15.34   | 16.47   | 384.600 |\n",
       "\n"
      ],
      "text/plain": [
       "   월간    WTI   Dubai Brent 금     \n",
       "5  1995/01 18.39 16.53 17.05 375.100\n",
       "6  1995/02 18.49 16.47 17.22 377.100\n",
       "7  1995/03 19.17 16.89 18.00 391.400\n",
       "8  1995/04 20.38 17.94 19.31 387.100\n",
       "9  1995/05 18.89 16.67 17.67 384.300\n",
       "10 1995/06 17.40 15.34 16.47 384.600"
      ]
     },
     "metadata": {},
     "output_type": "display_data"
    },
    {
     "data": {
      "text/html": [
       "<table>\n",
       "<thead><tr><th></th><th scope=col>월간</th><th scope=col>WTI</th><th scope=col>Dubai</th><th scope=col>Brent</th><th scope=col>금</th></tr></thead>\n",
       "<tbody>\n",
       "\t<tr><th scope=row>322</th><td>2021/06  </td><td>73.47    </td><td>72.97    </td><td>75.12    </td><td>1,770.110</td></tr>\n",
       "\t<tr><th scope=row>323</th><td>2021/07  </td><td>73.95    </td><td>73.32    </td><td>75.38    </td><td>1,814.180</td></tr>\n",
       "\t<tr><th scope=row>324</th><td>2021/08  </td><td>68.50    </td><td>69.35    </td><td>71.24    </td><td>1,813.620</td></tr>\n",
       "\t<tr><th scope=row>325</th><td>2021/09  </td><td>75.03    </td><td>75.90    </td><td>78.77    </td><td>1,756.900</td></tr>\n",
       "\t<tr><th scope=row>326</th><td>2021/10  </td><td>83.57    </td><td>81.94    </td><td>83.92    </td><td>1,783.380</td></tr>\n",
       "\t<tr><th scope=row>327</th><td>2021/11  </td><td>66.18    </td><td>70.97    </td><td>         </td><td>1,774.520</td></tr>\n",
       "</tbody>\n",
       "</table>\n"
      ],
      "text/latex": [
       "\\begin{tabular}{r|lllll}\n",
       "  & 월간 & WTI & Dubai & Brent & 금\\\\\n",
       "\\hline\n",
       "\t322 & 2021/06   & 73.47     & 72.97     & 75.12     & 1,770.110\\\\\n",
       "\t323 & 2021/07   & 73.95     & 73.32     & 75.38     & 1,814.180\\\\\n",
       "\t324 & 2021/08   & 68.50     & 69.35     & 71.24     & 1,813.620\\\\\n",
       "\t325 & 2021/09   & 75.03     & 75.90     & 78.77     & 1,756.900\\\\\n",
       "\t326 & 2021/10   & 83.57     & 81.94     & 83.92     & 1,783.380\\\\\n",
       "\t327 & 2021/11   & 66.18     & 70.97     &           & 1,774.520\\\\\n",
       "\\end{tabular}\n"
      ],
      "text/markdown": [
       "\n",
       "| <!--/--> | 월간 | WTI | Dubai | Brent | 금 |\n",
       "|---|---|---|---|---|---|\n",
       "| 322 | 2021/06   | 73.47     | 72.97     | 75.12     | 1,770.110 |\n",
       "| 323 | 2021/07   | 73.95     | 73.32     | 75.38     | 1,814.180 |\n",
       "| 324 | 2021/08   | 68.50     | 69.35     | 71.24     | 1,813.620 |\n",
       "| 325 | 2021/09   | 75.03     | 75.90     | 78.77     | 1,756.900 |\n",
       "| 326 | 2021/10   | 83.57     | 81.94     | 83.92     | 1,783.380 |\n",
       "| 327 | 2021/11   | 66.18     | 70.97     |           | 1,774.520 |\n",
       "\n"
      ],
      "text/plain": [
       "    월간    WTI   Dubai Brent 금       \n",
       "322 2021/06 73.47 72.97 75.12 1,770.110\n",
       "323 2021/07 73.95 73.32 75.38 1,814.180\n",
       "324 2021/08 68.50 69.35 71.24 1,813.620\n",
       "325 2021/09 75.03 75.90 78.77 1,756.900\n",
       "326 2021/10 83.57 81.94 83.92 1,783.380\n",
       "327 2021/11 66.18 70.97       1,774.520"
      ]
     },
     "metadata": {},
     "output_type": "display_data"
    }
   ],
   "source": [
    "oil.main <- oil.main[c(-(1:4),-(328:330)),]\n",
    "head(oil.main)\n",
    "tail(oil.main)"
   ]
  },
  {
   "cell_type": "code",
   "execution_count": 7,
   "id": "ad5ee2af",
   "metadata": {},
   "outputs": [
    {
     "data": {
      "text/html": [
       "<table>\n",
       "<thead><tr><th></th><th scope=col>월간</th><th scope=col>WTI</th><th scope=col>Dubai</th><th scope=col>Brent</th><th scope=col>금</th></tr></thead>\n",
       "<tbody>\n",
       "\t<tr><th scope=row>318</th><td>2021/06  </td><td>73.47    </td><td>72.97    </td><td>75.12    </td><td>1,770.110</td></tr>\n",
       "\t<tr><th scope=row>319</th><td>2021/07  </td><td>73.95    </td><td>73.32    </td><td>75.38    </td><td>1,814.180</td></tr>\n",
       "\t<tr><th scope=row>320</th><td>2021/08  </td><td>68.50    </td><td>69.35    </td><td>71.24    </td><td>1,813.620</td></tr>\n",
       "\t<tr><th scope=row>321</th><td>2021/09  </td><td>75.03    </td><td>75.90    </td><td>78.77    </td><td>1,756.900</td></tr>\n",
       "\t<tr><th scope=row>322</th><td>2021/10  </td><td>83.57    </td><td>81.94    </td><td>83.92    </td><td>1,783.380</td></tr>\n",
       "\t<tr><th scope=row>323</th><td>2021/11  </td><td>66.18    </td><td>70.97    </td><td>         </td><td>1,774.520</td></tr>\n",
       "</tbody>\n",
       "</table>\n"
      ],
      "text/latex": [
       "\\begin{tabular}{r|lllll}\n",
       "  & 월간 & WTI & Dubai & Brent & 금\\\\\n",
       "\\hline\n",
       "\t318 & 2021/06   & 73.47     & 72.97     & 75.12     & 1,770.110\\\\\n",
       "\t319 & 2021/07   & 73.95     & 73.32     & 75.38     & 1,814.180\\\\\n",
       "\t320 & 2021/08   & 68.50     & 69.35     & 71.24     & 1,813.620\\\\\n",
       "\t321 & 2021/09   & 75.03     & 75.90     & 78.77     & 1,756.900\\\\\n",
       "\t322 & 2021/10   & 83.57     & 81.94     & 83.92     & 1,783.380\\\\\n",
       "\t323 & 2021/11   & 66.18     & 70.97     &           & 1,774.520\\\\\n",
       "\\end{tabular}\n"
      ],
      "text/markdown": [
       "\n",
       "| <!--/--> | 월간 | WTI | Dubai | Brent | 금 |\n",
       "|---|---|---|---|---|---|\n",
       "| 318 | 2021/06   | 73.47     | 72.97     | 75.12     | 1,770.110 |\n",
       "| 319 | 2021/07   | 73.95     | 73.32     | 75.38     | 1,814.180 |\n",
       "| 320 | 2021/08   | 68.50     | 69.35     | 71.24     | 1,813.620 |\n",
       "| 321 | 2021/09   | 75.03     | 75.90     | 78.77     | 1,756.900 |\n",
       "| 322 | 2021/10   | 83.57     | 81.94     | 83.92     | 1,783.380 |\n",
       "| 323 | 2021/11   | 66.18     | 70.97     |           | 1,774.520 |\n",
       "\n"
      ],
      "text/plain": [
       "    월간    WTI   Dubai Brent 금       \n",
       "318 2021/06 73.47 72.97 75.12 1,770.110\n",
       "319 2021/07 73.95 73.32 75.38 1,814.180\n",
       "320 2021/08 68.50 69.35 71.24 1,813.620\n",
       "321 2021/09 75.03 75.90 78.77 1,756.900\n",
       "322 2021/10 83.57 81.94 83.92 1,783.380\n",
       "323 2021/11 66.18 70.97       1,774.520"
      ]
     },
     "metadata": {},
     "output_type": "display_data"
    }
   ],
   "source": [
    "rownames(oil.main)<-c()\n",
    "tail(oil.main)"
   ]
  },
  {
   "cell_type": "code",
   "execution_count": 8,
   "id": "9e0e35c2",
   "metadata": {},
   "outputs": [
    {
     "data": {
      "text/html": [
       "<dl class=dl-horizontal>\n",
       "\t<dt>월간</dt>\n",
       "\t\t<dd>0</dd>\n",
       "\t<dt>WTI</dt>\n",
       "\t\t<dd>0</dd>\n",
       "\t<dt>Dubai</dt>\n",
       "\t\t<dd>0</dd>\n",
       "\t<dt>Brent</dt>\n",
       "\t\t<dd>0</dd>\n",
       "\t<dt>금</dt>\n",
       "\t\t<dd>0</dd>\n",
       "</dl>\n"
      ],
      "text/latex": [
       "\\begin{description*}\n",
       "\\item[월간] 0\n",
       "\\item[WTI] 0\n",
       "\\item[Dubai] 0\n",
       "\\item[Brent] 0\n",
       "\\item[금] 0\n",
       "\\end{description*}\n"
      ],
      "text/markdown": [
       "월간\n",
       ":   0WTI\n",
       ":   0Dubai\n",
       ":   0Brent\n",
       ":   0금\n",
       ":   0\n",
       "\n"
      ],
      "text/plain": [
       " 월간   WTI Dubai Brent    금 \n",
       "    0     0     0     0     0 "
      ]
     },
     "metadata": {},
     "output_type": "display_data"
    }
   ],
   "source": [
    "colSums(is.na(oil.main))"
   ]
  },
  {
   "cell_type": "code",
   "execution_count": 9,
   "id": "86564b5c",
   "metadata": {},
   "outputs": [
    {
     "name": "stdout",
     "output_type": "stream",
     "text": [
      "'data.frame':\t323 obs. of  5 variables:\n",
      " $ 월간 : Factor w/ 330 levels \"   18.1.6.3 국제상품가격\",..: 2 3 4 5 6 7 8 9 10 11 ...\n",
      " $ WTI  : Factor w/ 321 levels \"\",\" 현물시장 기준\",..: 48 49 53 66 51 40 42 45 41 43 ...\n",
      " $ Dubai: Factor w/ 321 levels \"\",\" 선물은 1개월물(기말의 최종 가격)\",..: 73 72 76 85 75 65 64 66 63 68 ...\n",
      " $ Brent: Factor w/ 321 levels \"\",\"10.06\",\"10.48\",..: 74 76 79 95 77 69 66 68 70 71 ...\n",
      " $ 금   : Factor w/ 323 levels \"\",\"$/OZ\",\"1,007.700\",..: 228 230 249 245 239 240 234 235 237 236 ...\n"
     ]
    }
   ],
   "source": [
    "str(oil.main)"
   ]
  },
  {
   "cell_type": "code",
   "execution_count": 10,
   "id": "c5e26ba6",
   "metadata": {},
   "outputs": [],
   "source": [
    "for (i in 2: ncol(oil.main)){ \n",
    "    oil.main[,i] <- as.numeric(str_replace_all(as.character(oil.main[,i]),',',''))\n",
    "\n",
    "}"
   ]
  },
  {
   "cell_type": "code",
   "execution_count": 11,
   "id": "61fa989d",
   "metadata": {},
   "outputs": [
    {
     "name": "stdout",
     "output_type": "stream",
     "text": [
      "'data.frame':\t323 obs. of  5 variables:\n",
      " $ 월간 : Factor w/ 330 levels \"   18.1.6.3 국제상품가격\",..: 2 3 4 5 6 7 8 9 10 11 ...\n",
      " $ WTI  : num  18.4 18.5 19.2 20.4 18.9 ...\n",
      " $ Dubai: num  16.5 16.5 16.9 17.9 16.7 ...\n",
      " $ Brent: num  17.1 17.2 18 19.3 17.7 ...\n",
      " $ 금   : num  375 377 391 387 384 ...\n"
     ]
    }
   ],
   "source": [
    "str(oil.main)"
   ]
  },
  {
   "cell_type": "code",
   "execution_count": 12,
   "id": "7c9c9098",
   "metadata": {},
   "outputs": [
    {
     "data": {
      "text/html": [
       "<dl class=dl-horizontal>\n",
       "\t<dt>월간</dt>\n",
       "\t\t<dd>0</dd>\n",
       "\t<dt>WTI</dt>\n",
       "\t\t<dd>0</dd>\n",
       "\t<dt>Dubai</dt>\n",
       "\t\t<dd>0</dd>\n",
       "\t<dt>Brent</dt>\n",
       "\t\t<dd>1</dd>\n",
       "\t<dt>금</dt>\n",
       "\t\t<dd>0</dd>\n",
       "</dl>\n"
      ],
      "text/latex": [
       "\\begin{description*}\n",
       "\\item[월간] 0\n",
       "\\item[WTI] 0\n",
       "\\item[Dubai] 0\n",
       "\\item[Brent] 1\n",
       "\\item[금] 0\n",
       "\\end{description*}\n"
      ],
      "text/markdown": [
       "월간\n",
       ":   0WTI\n",
       ":   0Dubai\n",
       ":   0Brent\n",
       ":   1금\n",
       ":   0\n",
       "\n"
      ],
      "text/plain": [
       " 월간   WTI Dubai Brent    금 \n",
       "    0     0     0     1     0 "
      ]
     },
     "metadata": {},
     "output_type": "display_data"
    }
   ],
   "source": [
    "colSums(is.na(oil.main))"
   ]
  },
  {
   "cell_type": "code",
   "execution_count": 13,
   "id": "9bc604cc",
   "metadata": {},
   "outputs": [
    {
     "data": {
      "text/html": [
       "<table>\n",
       "<thead><tr><th></th><th scope=col>월간</th><th scope=col>WTI</th><th scope=col>Dubai</th><th scope=col>Brent</th><th scope=col>금</th></tr></thead>\n",
       "<tbody>\n",
       "\t<tr><th scope=row>318</th><td>2021/06</td><td>73.47  </td><td>72.97  </td><td>75.12  </td><td>1770.11</td></tr>\n",
       "\t<tr><th scope=row>319</th><td>2021/07</td><td>73.95  </td><td>73.32  </td><td>75.38  </td><td>1814.18</td></tr>\n",
       "\t<tr><th scope=row>320</th><td>2021/08</td><td>68.50  </td><td>69.35  </td><td>71.24  </td><td>1813.62</td></tr>\n",
       "\t<tr><th scope=row>321</th><td>2021/09</td><td>75.03  </td><td>75.90  </td><td>78.77  </td><td>1756.90</td></tr>\n",
       "\t<tr><th scope=row>322</th><td>2021/10</td><td>83.57  </td><td>81.94  </td><td>83.92  </td><td>1783.38</td></tr>\n",
       "\t<tr><th scope=row>323</th><td>2021/11</td><td>66.18  </td><td>70.97  </td><td>   NA  </td><td>1774.52</td></tr>\n",
       "</tbody>\n",
       "</table>\n"
      ],
      "text/latex": [
       "\\begin{tabular}{r|lllll}\n",
       "  & 월간 & WTI & Dubai & Brent & 금\\\\\n",
       "\\hline\n",
       "\t318 & 2021/06 & 73.47   & 72.97   & 75.12   & 1770.11\\\\\n",
       "\t319 & 2021/07 & 73.95   & 73.32   & 75.38   & 1814.18\\\\\n",
       "\t320 & 2021/08 & 68.50   & 69.35   & 71.24   & 1813.62\\\\\n",
       "\t321 & 2021/09 & 75.03   & 75.90   & 78.77   & 1756.90\\\\\n",
       "\t322 & 2021/10 & 83.57   & 81.94   & 83.92   & 1783.38\\\\\n",
       "\t323 & 2021/11 & 66.18   & 70.97   &    NA   & 1774.52\\\\\n",
       "\\end{tabular}\n"
      ],
      "text/markdown": [
       "\n",
       "| <!--/--> | 월간 | WTI | Dubai | Brent | 금 |\n",
       "|---|---|---|---|---|---|\n",
       "| 318 | 2021/06 | 73.47   | 72.97   | 75.12   | 1770.11 |\n",
       "| 319 | 2021/07 | 73.95   | 73.32   | 75.38   | 1814.18 |\n",
       "| 320 | 2021/08 | 68.50   | 69.35   | 71.24   | 1813.62 |\n",
       "| 321 | 2021/09 | 75.03   | 75.90   | 78.77   | 1756.90 |\n",
       "| 322 | 2021/10 | 83.57   | 81.94   | 83.92   | 1783.38 |\n",
       "| 323 | 2021/11 | 66.18   | 70.97   |    NA   | 1774.52 |\n",
       "\n"
      ],
      "text/plain": [
       "    월간    WTI   Dubai Brent 금     \n",
       "318 2021/06 73.47 72.97 75.12 1770.11\n",
       "319 2021/07 73.95 73.32 75.38 1814.18\n",
       "320 2021/08 68.50 69.35 71.24 1813.62\n",
       "321 2021/09 75.03 75.90 78.77 1756.90\n",
       "322 2021/10 83.57 81.94 83.92 1783.38\n",
       "323 2021/11 66.18 70.97    NA 1774.52"
      ]
     },
     "metadata": {},
     "output_type": "display_data"
    }
   ],
   "source": [
    "tail(oil.main)"
   ]
  },
  {
   "cell_type": "code",
   "execution_count": 14,
   "id": "43fe1b67",
   "metadata": {},
   "outputs": [],
   "source": [
    "oil.main$월간 <- str_replace_all(as.character(oil.main[,1]),'/','.')"
   ]
  },
  {
   "cell_type": "code",
   "execution_count": null,
   "id": "a37feb46",
   "metadata": {},
   "outputs": [],
   "source": []
  },
  {
   "cell_type": "code",
   "execution_count": 15,
   "id": "668acea0",
   "metadata": {},
   "outputs": [
    {
     "data": {
      "text/html": [
       "<table>\n",
       "<thead><tr><th scope=col>월간</th><th scope=col>WTI</th><th scope=col>Dubai</th><th scope=col>Brent</th><th scope=col>금</th></tr></thead>\n",
       "<tbody>\n",
       "\t<tr><td>1995.01</td><td>18.39  </td><td>16.53  </td><td>17.05  </td><td>375.1  </td></tr>\n",
       "\t<tr><td>1995.02</td><td>18.49  </td><td>16.47  </td><td>17.22  </td><td>377.1  </td></tr>\n",
       "\t<tr><td>1995.03</td><td>19.17  </td><td>16.89  </td><td>18.00  </td><td>391.4  </td></tr>\n",
       "\t<tr><td>1995.04</td><td>20.38  </td><td>17.94  </td><td>19.31  </td><td>387.1  </td></tr>\n",
       "\t<tr><td>1995.05</td><td>18.89  </td><td>16.67  </td><td>17.67  </td><td>384.3  </td></tr>\n",
       "\t<tr><td>1995.06</td><td>17.40  </td><td>15.34  </td><td>16.47  </td><td>384.6  </td></tr>\n",
       "</tbody>\n",
       "</table>\n"
      ],
      "text/latex": [
       "\\begin{tabular}{r|lllll}\n",
       " 월간 & WTI & Dubai & Brent & 금\\\\\n",
       "\\hline\n",
       "\t 1995.01 & 18.39   & 16.53   & 17.05   & 375.1  \\\\\n",
       "\t 1995.02 & 18.49   & 16.47   & 17.22   & 377.1  \\\\\n",
       "\t 1995.03 & 19.17   & 16.89   & 18.00   & 391.4  \\\\\n",
       "\t 1995.04 & 20.38   & 17.94   & 19.31   & 387.1  \\\\\n",
       "\t 1995.05 & 18.89   & 16.67   & 17.67   & 384.3  \\\\\n",
       "\t 1995.06 & 17.40   & 15.34   & 16.47   & 384.6  \\\\\n",
       "\\end{tabular}\n"
      ],
      "text/markdown": [
       "\n",
       "| 월간 | WTI | Dubai | Brent | 금 |\n",
       "|---|---|---|---|---|\n",
       "| 1995.01 | 18.39   | 16.53   | 17.05   | 375.1   |\n",
       "| 1995.02 | 18.49   | 16.47   | 17.22   | 377.1   |\n",
       "| 1995.03 | 19.17   | 16.89   | 18.00   | 391.4   |\n",
       "| 1995.04 | 20.38   | 17.94   | 19.31   | 387.1   |\n",
       "| 1995.05 | 18.89   | 16.67   | 17.67   | 384.3   |\n",
       "| 1995.06 | 17.40   | 15.34   | 16.47   | 384.6   |\n",
       "\n"
      ],
      "text/plain": [
       "  월간    WTI   Dubai Brent 금   \n",
       "1 1995.01 18.39 16.53 17.05 375.1\n",
       "2 1995.02 18.49 16.47 17.22 377.1\n",
       "3 1995.03 19.17 16.89 18.00 391.4\n",
       "4 1995.04 20.38 17.94 19.31 387.1\n",
       "5 1995.05 18.89 16.67 17.67 384.3\n",
       "6 1995.06 17.40 15.34 16.47 384.6"
      ]
     },
     "metadata": {},
     "output_type": "display_data"
    }
   ],
   "source": [
    "head(oil.main)"
   ]
  },
  {
   "cell_type": "code",
   "execution_count": 16,
   "id": "29be3b21",
   "metadata": {},
   "outputs": [],
   "source": [
    "write.csv(oil.main,\"../Data/OILdata.csv\",row.names=F)"
   ]
  },
  {
   "cell_type": "code",
   "execution_count": null,
   "id": "552ebb2f",
   "metadata": {},
   "outputs": [],
   "source": []
  }
 ],
 "metadata": {
  "kernelspec": {
   "display_name": "R",
   "language": "R",
   "name": "ir"
  },
  "language_info": {
   "codemirror_mode": "r",
   "file_extension": ".r",
   "mimetype": "text/x-r-source",
   "name": "R",
   "pygments_lexer": "r",
   "version": "3.6.1"
  }
 },
 "nbformat": 4,
 "nbformat_minor": 5
}

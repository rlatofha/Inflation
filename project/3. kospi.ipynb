{
 "cells": [
  {
   "cell_type": "code",
   "execution_count": 1,
   "id": "f1b59d12",
   "metadata": {},
   "outputs": [],
   "source": [
    "library(stringr)"
   ]
  },
  {
   "cell_type": "code",
   "execution_count": 2,
   "id": "c8b34969",
   "metadata": {
    "scrolled": true
   },
   "outputs": [
    {
     "data": {
      "text/html": [
       "<table>\n",
       "<thead><tr><th scope=col>V1</th><th scope=col>V2</th></tr></thead>\n",
       "<tbody>\n",
       "\t<tr><td>통계표                      </td><td>6.1.1 주식시장(일별)        </td></tr>\n",
       "\t<tr><td>항목명1                     </td><td>  시가총액(주식시장, 잠정치)</td></tr>\n",
       "\t<tr><td>단위                        </td><td>억원                        </td></tr>\n",
       "\t<tr><td>변환                        </td><td>원자료                      </td></tr>\n",
       "\t<tr><td>2003/01/02                  </td><td>2,618,570                   </td></tr>\n",
       "\t<tr><td>2003/01/03                  </td><td>2,726,580                   </td></tr>\n",
       "</tbody>\n",
       "</table>\n"
      ],
      "text/latex": [
       "\\begin{tabular}{r|ll}\n",
       " V1 & V2\\\\\n",
       "\\hline\n",
       "\t 통계표                       & 6.1.1 주식시장(일별)        \\\\\n",
       "\t 항목명1                      &   시가총액(주식시장, 잠정치)\\\\\n",
       "\t 단위                         & 억원                        \\\\\n",
       "\t 변환                         & 원자료                      \\\\\n",
       "\t 2003/01/02                   & 2,618,570                   \\\\\n",
       "\t 2003/01/03                   & 2,726,580                   \\\\\n",
       "\\end{tabular}\n"
      ],
      "text/markdown": [
       "\n",
       "| V1 | V2 |\n",
       "|---|---|\n",
       "| 통계표                       | 6.1.1 주식시장(일별)         |\n",
       "| 항목명1                      |   시가총액(주식시장, 잠정치) |\n",
       "| 단위                         | 억원                         |\n",
       "| 변환                         | 원자료                       |\n",
       "| 2003/01/02                   | 2,618,570                    |\n",
       "| 2003/01/03                   | 2,726,580                    |\n",
       "\n"
      ],
      "text/plain": [
       "  V1         V2                          \n",
       "1 통계표     6.1.1 주식시장(일별)        \n",
       "2 항목명1      시가총액(주식시장, 잠정치)\n",
       "3 단위       억원                        \n",
       "4 변환       원자료                      \n",
       "5 2003/01/02 2,618,570                   \n",
       "6 2003/01/03 2,726,580                   "
      ]
     },
     "metadata": {},
     "output_type": "display_data"
    },
    {
     "data": {
      "text/html": [
       "<table>\n",
       "<thead><tr><th></th><th scope=col>V1</th><th scope=col>V2</th></tr></thead>\n",
       "<tbody>\n",
       "\t<tr><th scope=row>4699</th><td>2021/11/26                                                                          </td><td>21,674,440                                                                          </td></tr>\n",
       "\t<tr><th scope=row>4700</th><td>2021/11/29                                                                          </td><td>21,483,590                                                                          </td></tr>\n",
       "\t<tr><th scope=row>4701</th><td>2021/11/30                                                                          </td><td>20,958,210                                                                          </td></tr>\n",
       "\t<tr><th scope=row>4702</th><td>   6.1.1 주식시장(일별)                                                             </td><td>                                                                                    </td></tr>\n",
       "\t<tr><th scope=row>4703</th><td>통계담당 : 한국은행 금융시장국 주식시장팀(02-759-4775)                              </td><td>                                                                                    </td></tr>\n",
       "\t<tr><th scope=row>4704</th><td>주 : 휴일제거시 국내 영업일 기준으로 데이터가 조회되어 주식시장 영업일과 차이가 있음</td><td>                                                                                    </td></tr>\n",
       "</tbody>\n",
       "</table>\n"
      ],
      "text/latex": [
       "\\begin{tabular}{r|ll}\n",
       "  & V1 & V2\\\\\n",
       "\\hline\n",
       "\t4699 & 2021/11/26                                                                           & 21,674,440                                                                          \\\\\n",
       "\t4700 & 2021/11/29                                                                           & 21,483,590                                                                          \\\\\n",
       "\t4701 & 2021/11/30                                                                           & 20,958,210                                                                          \\\\\n",
       "\t4702 &    6.1.1 주식시장(일별)                                                              &                                                                                     \\\\\n",
       "\t4703 & 통계담당 : 한국은행 금융시장국 주식시장팀(02-759-4775)                               &                                                                                     \\\\\n",
       "\t4704 & 주 : 휴일제거시 국내 영업일 기준으로 데이터가 조회되어 주식시장 영업일과 차이가 있음 &                                                                                     \\\\\n",
       "\\end{tabular}\n"
      ],
      "text/markdown": [
       "\n",
       "| <!--/--> | V1 | V2 |\n",
       "|---|---|---|\n",
       "| 4699 | 2021/11/26                                                                           | 21,674,440                                                                           |\n",
       "| 4700 | 2021/11/29                                                                           | 21,483,590                                                                           |\n",
       "| 4701 | 2021/11/30                                                                           | 20,958,210                                                                           |\n",
       "| 4702 |    6.1.1 주식시장(일별)                                                              |                                                                                      |\n",
       "| 4703 | 통계담당 : 한국은행 금융시장국 주식시장팀(02-759-4775)                               |                                                                                      |\n",
       "| 4704 | 주 : 휴일제거시 국내 영업일 기준으로 데이터가 조회되어 주식시장 영업일과 차이가 있음 |                                                                                      |\n",
       "\n"
      ],
      "text/plain": [
       "     V1                                                                                  \n",
       "4699 2021/11/26                                                                          \n",
       "4700 2021/11/29                                                                          \n",
       "4701 2021/11/30                                                                          \n",
       "4702    6.1.1 주식시장(일별)                                                             \n",
       "4703 통계담당 : 한국은행 금융시장국 주식시장팀(02-759-4775)                              \n",
       "4704 주 : 휴일제거시 국내 영업일 기준으로 데이터가 조회되어 주식시장 영업일과 차이가 있음\n",
       "     V2        \n",
       "4699 21,674,440\n",
       "4700 21,483,590\n",
       "4701 20,958,210\n",
       "4702           \n",
       "4703           \n",
       "4704           "
      ]
     },
     "metadata": {},
     "output_type": "display_data"
    }
   ],
   "source": [
    "kospi <- read.csv('../Data/kospi2.csv', fileEncoding = \"euc-kr\", header = F)\n",
    "head(kospi)\n",
    "tail(kospi)"
   ]
  },
  {
   "cell_type": "code",
   "execution_count": 3,
   "id": "c922bdf5",
   "metadata": {},
   "outputs": [],
   "source": [
    "colnames(kospi)<-c('일간','시가총액_단위_억')"
   ]
  },
  {
   "cell_type": "code",
   "execution_count": 4,
   "id": "a24f7a74",
   "metadata": {},
   "outputs": [
    {
     "data": {
      "text/html": [
       "<table>\n",
       "<thead><tr><th scope=col>일간</th><th scope=col>시가총액_단위_억</th></tr></thead>\n",
       "<tbody>\n",
       "\t<tr><td>통계표                      </td><td>6.1.1 주식시장(일별)        </td></tr>\n",
       "\t<tr><td>항목명1                     </td><td>  시가총액(주식시장, 잠정치)</td></tr>\n",
       "\t<tr><td>단위                        </td><td>억원                        </td></tr>\n",
       "\t<tr><td>변환                        </td><td>원자료                      </td></tr>\n",
       "\t<tr><td>2003/01/02                  </td><td>2,618,570                   </td></tr>\n",
       "\t<tr><td>2003/01/03                  </td><td>2,726,580                   </td></tr>\n",
       "</tbody>\n",
       "</table>\n"
      ],
      "text/latex": [
       "\\begin{tabular}{r|ll}\n",
       " 일간 & 시가총액\\_단위\\_억\\\\\n",
       "\\hline\n",
       "\t 통계표                       & 6.1.1 주식시장(일별)        \\\\\n",
       "\t 항목명1                      &   시가총액(주식시장, 잠정치)\\\\\n",
       "\t 단위                         & 억원                        \\\\\n",
       "\t 변환                         & 원자료                      \\\\\n",
       "\t 2003/01/02                   & 2,618,570                   \\\\\n",
       "\t 2003/01/03                   & 2,726,580                   \\\\\n",
       "\\end{tabular}\n"
      ],
      "text/markdown": [
       "\n",
       "| 일간 | 시가총액_단위_억 |\n",
       "|---|---|\n",
       "| 통계표                       | 6.1.1 주식시장(일별)         |\n",
       "| 항목명1                      |   시가총액(주식시장, 잠정치) |\n",
       "| 단위                         | 억원                         |\n",
       "| 변환                         | 원자료                       |\n",
       "| 2003/01/02                   | 2,618,570                    |\n",
       "| 2003/01/03                   | 2,726,580                    |\n",
       "\n"
      ],
      "text/plain": [
       "  일간       시가총액_단위_억            \n",
       "1 통계표     6.1.1 주식시장(일별)        \n",
       "2 항목명1      시가총액(주식시장, 잠정치)\n",
       "3 단위       억원                        \n",
       "4 변환       원자료                      \n",
       "5 2003/01/02 2,618,570                   \n",
       "6 2003/01/03 2,726,580                   "
      ]
     },
     "metadata": {},
     "output_type": "display_data"
    }
   ],
   "source": [
    "head(kospi)"
   ]
  },
  {
   "cell_type": "code",
   "execution_count": 5,
   "id": "ceee8e08",
   "metadata": {},
   "outputs": [],
   "source": [
    "kospi<-kospi[c(-(1:4),-(4702:4704)),]"
   ]
  },
  {
   "cell_type": "code",
   "execution_count": 6,
   "id": "e8c2f951",
   "metadata": {},
   "outputs": [
    {
     "data": {
      "text/html": [
       "<table>\n",
       "<thead><tr><th></th><th scope=col>일간</th><th scope=col>시가총액_단위_억</th></tr></thead>\n",
       "<tbody>\n",
       "\t<tr><th scope=row>5</th><td>2003/01/02</td><td>2,618,570 </td></tr>\n",
       "\t<tr><th scope=row>6</th><td>2003/01/03</td><td>2,726,580 </td></tr>\n",
       "\t<tr><th scope=row>7</th><td>2003/01/06</td><td>2,748,210 </td></tr>\n",
       "\t<tr><th scope=row>8</th><td>2003/01/07</td><td>2,689,030 </td></tr>\n",
       "\t<tr><th scope=row>9</th><td>2003/01/08</td><td>2,687,120 </td></tr>\n",
       "\t<tr><th scope=row>10</th><td>2003/01/09</td><td>2,592,000 </td></tr>\n",
       "</tbody>\n",
       "</table>\n"
      ],
      "text/latex": [
       "\\begin{tabular}{r|ll}\n",
       "  & 일간 & 시가총액\\_단위\\_억\\\\\n",
       "\\hline\n",
       "\t5 & 2003/01/02 & 2,618,570 \\\\\n",
       "\t6 & 2003/01/03 & 2,726,580 \\\\\n",
       "\t7 & 2003/01/06 & 2,748,210 \\\\\n",
       "\t8 & 2003/01/07 & 2,689,030 \\\\\n",
       "\t9 & 2003/01/08 & 2,687,120 \\\\\n",
       "\t10 & 2003/01/09 & 2,592,000 \\\\\n",
       "\\end{tabular}\n"
      ],
      "text/markdown": [
       "\n",
       "| <!--/--> | 일간 | 시가총액_단위_억 |\n",
       "|---|---|---|\n",
       "| 5 | 2003/01/02 | 2,618,570  |\n",
       "| 6 | 2003/01/03 | 2,726,580  |\n",
       "| 7 | 2003/01/06 | 2,748,210  |\n",
       "| 8 | 2003/01/07 | 2,689,030  |\n",
       "| 9 | 2003/01/08 | 2,687,120  |\n",
       "| 10 | 2003/01/09 | 2,592,000  |\n",
       "\n"
      ],
      "text/plain": [
       "   일간       시가총액_단위_억\n",
       "5  2003/01/02 2,618,570       \n",
       "6  2003/01/03 2,726,580       \n",
       "7  2003/01/06 2,748,210       \n",
       "8  2003/01/07 2,689,030       \n",
       "9  2003/01/08 2,687,120       \n",
       "10 2003/01/09 2,592,000       "
      ]
     },
     "metadata": {},
     "output_type": "display_data"
    },
    {
     "data": {
      "text/html": [
       "<table>\n",
       "<thead><tr><th></th><th scope=col>일간</th><th scope=col>시가총액_단위_억</th></tr></thead>\n",
       "<tbody>\n",
       "\t<tr><th scope=row>4696</th><td>2021/11/23</td><td>22,138,060</td></tr>\n",
       "\t<tr><th scope=row>4697</th><td>2021/11/24</td><td>22,108,040</td></tr>\n",
       "\t<tr><th scope=row>4698</th><td>2021/11/25</td><td>21,999,500</td></tr>\n",
       "\t<tr><th scope=row>4699</th><td>2021/11/26</td><td>21,674,440</td></tr>\n",
       "\t<tr><th scope=row>4700</th><td>2021/11/29</td><td>21,483,590</td></tr>\n",
       "\t<tr><th scope=row>4701</th><td>2021/11/30</td><td>20,958,210</td></tr>\n",
       "</tbody>\n",
       "</table>\n"
      ],
      "text/latex": [
       "\\begin{tabular}{r|ll}\n",
       "  & 일간 & 시가총액\\_단위\\_억\\\\\n",
       "\\hline\n",
       "\t4696 & 2021/11/23 & 22,138,060\\\\\n",
       "\t4697 & 2021/11/24 & 22,108,040\\\\\n",
       "\t4698 & 2021/11/25 & 21,999,500\\\\\n",
       "\t4699 & 2021/11/26 & 21,674,440\\\\\n",
       "\t4700 & 2021/11/29 & 21,483,590\\\\\n",
       "\t4701 & 2021/11/30 & 20,958,210\\\\\n",
       "\\end{tabular}\n"
      ],
      "text/markdown": [
       "\n",
       "| <!--/--> | 일간 | 시가총액_단위_억 |\n",
       "|---|---|---|\n",
       "| 4696 | 2021/11/23 | 22,138,060 |\n",
       "| 4697 | 2021/11/24 | 22,108,040 |\n",
       "| 4698 | 2021/11/25 | 21,999,500 |\n",
       "| 4699 | 2021/11/26 | 21,674,440 |\n",
       "| 4700 | 2021/11/29 | 21,483,590 |\n",
       "| 4701 | 2021/11/30 | 20,958,210 |\n",
       "\n"
      ],
      "text/plain": [
       "     일간       시가총액_단위_억\n",
       "4696 2021/11/23 22,138,060      \n",
       "4697 2021/11/24 22,108,040      \n",
       "4698 2021/11/25 21,999,500      \n",
       "4699 2021/11/26 21,674,440      \n",
       "4700 2021/11/29 21,483,590      \n",
       "4701 2021/11/30 20,958,210      "
      ]
     },
     "metadata": {},
     "output_type": "display_data"
    }
   ],
   "source": [
    "head(kospi)\n",
    "tail(kospi)"
   ]
  },
  {
   "cell_type": "code",
   "execution_count": 7,
   "id": "7b85f00e",
   "metadata": {},
   "outputs": [],
   "source": [
    "rownames(kospi)<-c()"
   ]
  },
  {
   "cell_type": "code",
   "execution_count": 8,
   "id": "8865ead1",
   "metadata": {},
   "outputs": [
    {
     "data": {
      "text/html": [
       "<table>\n",
       "<thead><tr><th></th><th scope=col>일간</th><th scope=col>시가총액_단위_억</th></tr></thead>\n",
       "<tbody>\n",
       "\t<tr><th scope=row>4692</th><td>2021/11/23</td><td>22,138,060</td></tr>\n",
       "\t<tr><th scope=row>4693</th><td>2021/11/24</td><td>22,108,040</td></tr>\n",
       "\t<tr><th scope=row>4694</th><td>2021/11/25</td><td>21,999,500</td></tr>\n",
       "\t<tr><th scope=row>4695</th><td>2021/11/26</td><td>21,674,440</td></tr>\n",
       "\t<tr><th scope=row>4696</th><td>2021/11/29</td><td>21,483,590</td></tr>\n",
       "\t<tr><th scope=row>4697</th><td>2021/11/30</td><td>20,958,210</td></tr>\n",
       "</tbody>\n",
       "</table>\n"
      ],
      "text/latex": [
       "\\begin{tabular}{r|ll}\n",
       "  & 일간 & 시가총액\\_단위\\_억\\\\\n",
       "\\hline\n",
       "\t4692 & 2021/11/23 & 22,138,060\\\\\n",
       "\t4693 & 2021/11/24 & 22,108,040\\\\\n",
       "\t4694 & 2021/11/25 & 21,999,500\\\\\n",
       "\t4695 & 2021/11/26 & 21,674,440\\\\\n",
       "\t4696 & 2021/11/29 & 21,483,590\\\\\n",
       "\t4697 & 2021/11/30 & 20,958,210\\\\\n",
       "\\end{tabular}\n"
      ],
      "text/markdown": [
       "\n",
       "| <!--/--> | 일간 | 시가총액_단위_억 |\n",
       "|---|---|---|\n",
       "| 4692 | 2021/11/23 | 22,138,060 |\n",
       "| 4693 | 2021/11/24 | 22,108,040 |\n",
       "| 4694 | 2021/11/25 | 21,999,500 |\n",
       "| 4695 | 2021/11/26 | 21,674,440 |\n",
       "| 4696 | 2021/11/29 | 21,483,590 |\n",
       "| 4697 | 2021/11/30 | 20,958,210 |\n",
       "\n"
      ],
      "text/plain": [
       "     일간       시가총액_단위_억\n",
       "4692 2021/11/23 22,138,060      \n",
       "4693 2021/11/24 22,108,040      \n",
       "4694 2021/11/25 21,999,500      \n",
       "4695 2021/11/26 21,674,440      \n",
       "4696 2021/11/29 21,483,590      \n",
       "4697 2021/11/30 20,958,210      "
      ]
     },
     "metadata": {},
     "output_type": "display_data"
    }
   ],
   "source": [
    "tail(kospi)"
   ]
  },
  {
   "cell_type": "code",
   "execution_count": 9,
   "id": "675b14c6",
   "metadata": {},
   "outputs": [
    {
     "name": "stdout",
     "output_type": "stream",
     "text": [
      "'data.frame':\t4697 obs. of  2 variables:\n",
      " $ 일간            : Factor w/ 4704 levels \"   6.1.1 주식시장(일별)\",..: 2 3 4 5 6 7 8 9 10 11 ...\n",
      " $ 시가총액_단위_억: Factor w/ 4675 levels \"\",\"  시가총액(주식시장, 잠정치)\",..: 2629 2645 2648 2641 2639 2622 2620 2635 2636 2632 ...\n"
     ]
    }
   ],
   "source": [
    "str(kospi)"
   ]
  },
  {
   "cell_type": "code",
   "execution_count": 10,
   "id": "283c6ad8",
   "metadata": {},
   "outputs": [],
   "source": [
    "for (i in 2: ncol(kospi)){ \n",
    "    kospi[,i] <- as.numeric(str_replace_all(as.character(kospi[,i]),',',''))\n",
    "\n",
    "}"
   ]
  },
  {
   "cell_type": "code",
   "execution_count": 11,
   "id": "43344b87",
   "metadata": {},
   "outputs": [
    {
     "name": "stdout",
     "output_type": "stream",
     "text": [
      "'data.frame':\t4697 obs. of  2 variables:\n",
      " $ 일간            : Factor w/ 4704 levels \"   6.1.1 주식시장(일별)\",..: 2 3 4 5 6 7 8 9 10 11 ...\n",
      " $ 시가총액_단위_억: num  2618570 2726580 2748210 2689030 2687120 ...\n"
     ]
    }
   ],
   "source": [
    "str(kospi)"
   ]
  },
  {
   "cell_type": "code",
   "execution_count": 12,
   "id": "c7842141",
   "metadata": {},
   "outputs": [
    {
     "data": {
      "text/html": [
       "<dl class=dl-horizontal>\n",
       "\t<dt>일간</dt>\n",
       "\t\t<dd>0</dd>\n",
       "\t<dt>시가총액_단위_억</dt>\n",
       "\t\t<dd>18</dd>\n",
       "</dl>\n"
      ],
      "text/latex": [
       "\\begin{description*}\n",
       "\\item[일간] 0\n",
       "\\item[시가총액\\textbackslash{}\\_단위\\textbackslash{}\\_억] 18\n",
       "\\end{description*}\n"
      ],
      "text/markdown": [
       "일간\n",
       ":   0시가총액_단위_억\n",
       ":   18\n",
       "\n"
      ],
      "text/plain": [
       "            일간 시가총액_단위_억 \n",
       "               0               18 "
      ]
     },
     "metadata": {},
     "output_type": "display_data"
    }
   ],
   "source": [
    "colSums(is.na(kospi))"
   ]
  },
  {
   "cell_type": "code",
   "execution_count": 13,
   "id": "d182c202",
   "metadata": {},
   "outputs": [
    {
     "data": {
      "text/html": [
       "<ol class=list-inline>\n",
       "\t<li>'248'</li>\n",
       "\t<li>'498'</li>\n",
       "\t<li>'748'</li>\n",
       "\t<li>'996'</li>\n",
       "\t<li>'1243'</li>\n",
       "\t<li>'1492'</li>\n",
       "\t<li>'1746'</li>\n",
       "\t<li>'1998'</li>\n",
       "\t<li>'2247'</li>\n",
       "\t<li>'2496'</li>\n",
       "\t<li>'2744'</li>\n",
       "\t<li>'2990'</li>\n",
       "\t<li>'3239'</li>\n",
       "\t<li>'3486'</li>\n",
       "\t<li>'3730'</li>\n",
       "\t<li>'3975'</li>\n",
       "\t<li>'4222'</li>\n",
       "\t<li>'4471'</li>\n",
       "</ol>\n"
      ],
      "text/latex": [
       "\\begin{enumerate*}\n",
       "\\item '248'\n",
       "\\item '498'\n",
       "\\item '748'\n",
       "\\item '996'\n",
       "\\item '1243'\n",
       "\\item '1492'\n",
       "\\item '1746'\n",
       "\\item '1998'\n",
       "\\item '2247'\n",
       "\\item '2496'\n",
       "\\item '2744'\n",
       "\\item '2990'\n",
       "\\item '3239'\n",
       "\\item '3486'\n",
       "\\item '3730'\n",
       "\\item '3975'\n",
       "\\item '4222'\n",
       "\\item '4471'\n",
       "\\end{enumerate*}\n"
      ],
      "text/markdown": [
       "1. '248'\n",
       "2. '498'\n",
       "3. '748'\n",
       "4. '996'\n",
       "5. '1243'\n",
       "6. '1492'\n",
       "7. '1746'\n",
       "8. '1998'\n",
       "9. '2247'\n",
       "10. '2496'\n",
       "11. '2744'\n",
       "12. '2990'\n",
       "13. '3239'\n",
       "14. '3486'\n",
       "15. '3730'\n",
       "16. '3975'\n",
       "17. '4222'\n",
       "18. '4471'\n",
       "\n",
       "\n"
      ],
      "text/plain": [
       " [1] \"248\"  \"498\"  \"748\"  \"996\"  \"1243\" \"1492\" \"1746\" \"1998\" \"2247\" \"2496\"\n",
       "[11] \"2744\" \"2990\" \"3239\" \"3486\" \"3730\" \"3975\" \"4222\" \"4471\""
      ]
     },
     "metadata": {},
     "output_type": "display_data"
    }
   ],
   "source": [
    "rownames(subset(kospi,is.na(kospi[,2])==T))"
   ]
  },
  {
   "cell_type": "code",
   "execution_count": 14,
   "id": "0e3d42c6",
   "metadata": {},
   "outputs": [],
   "source": [
    "for(i in 1:18){\n",
    "    kospi$시가총액_단위_억<- str_replace_na(kospi[,2],kospi[as.numeric(rownames(subset(kospi,is.na(kospi[,2])==T))[i])+1,2])\n",
    "}"
   ]
  },
  {
   "cell_type": "code",
   "execution_count": 15,
   "id": "83a2c313",
   "metadata": {},
   "outputs": [
    {
     "data": {
      "text/html": [
       "<dl class=dl-horizontal>\n",
       "\t<dt>일간</dt>\n",
       "\t\t<dd>0</dd>\n",
       "\t<dt>시가총액_단위_억</dt>\n",
       "\t\t<dd>0</dd>\n",
       "</dl>\n"
      ],
      "text/latex": [
       "\\begin{description*}\n",
       "\\item[일간] 0\n",
       "\\item[시가총액\\textbackslash{}\\_단위\\textbackslash{}\\_억] 0\n",
       "\\end{description*}\n"
      ],
      "text/markdown": [
       "일간\n",
       ":   0시가총액_단위_억\n",
       ":   0\n",
       "\n"
      ],
      "text/plain": [
       "            일간 시가총액_단위_억 \n",
       "               0                0 "
      ]
     },
     "metadata": {},
     "output_type": "display_data"
    }
   ],
   "source": [
    "colSums(is.na(kospi))"
   ]
  },
  {
   "cell_type": "code",
   "execution_count": 16,
   "id": "b9664ff8",
   "metadata": {},
   "outputs": [],
   "source": [
    "kospi$일간 <- str_replace_all(as.character(kospi[,1]),'/','.')"
   ]
  },
  {
   "cell_type": "code",
   "execution_count": 17,
   "id": "1806912c",
   "metadata": {},
   "outputs": [
    {
     "data": {
      "text/html": [
       "<table>\n",
       "<thead><tr><th scope=col>일간</th><th scope=col>시가총액_단위_억</th></tr></thead>\n",
       "<tbody>\n",
       "\t<tr><td>2003.01.02</td><td>2618570   </td></tr>\n",
       "\t<tr><td>2003.01.03</td><td>2726580   </td></tr>\n",
       "\t<tr><td>2003.01.06</td><td>2748210   </td></tr>\n",
       "\t<tr><td>2003.01.07</td><td>2689030   </td></tr>\n",
       "\t<tr><td>2003.01.08</td><td>2687120   </td></tr>\n",
       "\t<tr><td>2003.01.09</td><td>2592000   </td></tr>\n",
       "</tbody>\n",
       "</table>\n"
      ],
      "text/latex": [
       "\\begin{tabular}{r|ll}\n",
       " 일간 & 시가총액\\_단위\\_억\\\\\n",
       "\\hline\n",
       "\t 2003.01.02 & 2618570   \\\\\n",
       "\t 2003.01.03 & 2726580   \\\\\n",
       "\t 2003.01.06 & 2748210   \\\\\n",
       "\t 2003.01.07 & 2689030   \\\\\n",
       "\t 2003.01.08 & 2687120   \\\\\n",
       "\t 2003.01.09 & 2592000   \\\\\n",
       "\\end{tabular}\n"
      ],
      "text/markdown": [
       "\n",
       "| 일간 | 시가총액_단위_억 |\n",
       "|---|---|\n",
       "| 2003.01.02 | 2618570    |\n",
       "| 2003.01.03 | 2726580    |\n",
       "| 2003.01.06 | 2748210    |\n",
       "| 2003.01.07 | 2689030    |\n",
       "| 2003.01.08 | 2687120    |\n",
       "| 2003.01.09 | 2592000    |\n",
       "\n"
      ],
      "text/plain": [
       "  일간       시가총액_단위_억\n",
       "1 2003.01.02 2618570         \n",
       "2 2003.01.03 2726580         \n",
       "3 2003.01.06 2748210         \n",
       "4 2003.01.07 2689030         \n",
       "5 2003.01.08 2687120         \n",
       "6 2003.01.09 2592000         "
      ]
     },
     "metadata": {},
     "output_type": "display_data"
    }
   ],
   "source": [
    "head(kospi)"
   ]
  },
  {
   "cell_type": "code",
   "execution_count": 18,
   "id": "2d3f56dc",
   "metadata": {},
   "outputs": [],
   "source": [
    "write.csv(kospi,\"../Data/KOSPIdata.csv\",row.names=F)"
   ]
  },
  {
   "cell_type": "code",
   "execution_count": null,
   "id": "c8cb23a1",
   "metadata": {},
   "outputs": [],
   "source": []
  }
 ],
 "metadata": {
  "kernelspec": {
   "display_name": "R",
   "language": "R",
   "name": "ir"
  },
  "language_info": {
   "codemirror_mode": "r",
   "file_extension": ".r",
   "mimetype": "text/x-r-source",
   "name": "R",
   "pygments_lexer": "r",
   "version": "3.6.1"
  }
 },
 "nbformat": 4,
 "nbformat_minor": 5
}

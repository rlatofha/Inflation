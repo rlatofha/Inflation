{
 "cells": [
  {
   "cell_type": "code",
   "execution_count": 1,
   "id": "d8a3abd1",
   "metadata": {},
   "outputs": [],
   "source": [
    "library(stringr)"
   ]
  },
  {
   "cell_type": "code",
   "execution_count": 3,
   "id": "6006d880",
   "metadata": {},
   "outputs": [],
   "source": [
    "m2<- read.csv('../Data/M2.csv', fileEncoding = \"euc-kr\", header = F)"
   ]
  },
  {
   "cell_type": "code",
   "execution_count": 4,
   "id": "c3a052ba",
   "metadata": {},
   "outputs": [
    {
     "data": {
      "text/html": [
       "<table>\n",
       "<thead><tr><th scope=col>V1</th><th scope=col>V2</th></tr></thead>\n",
       "<tbody>\n",
       "\t<tr><td>통계표               </td><td>1.1.주요 통화금융지표</td></tr>\n",
       "\t<tr><td>항목명1              </td><td>M2(광의통화, 평잔)   </td></tr>\n",
       "\t<tr><td>단위                 </td><td>십억원               </td></tr>\n",
       "\t<tr><td>변환                 </td><td>원자료               </td></tr>\n",
       "\t<tr><td>1986/01              </td><td>43,133.6             </td></tr>\n",
       "\t<tr><td>1986/02              </td><td>43,492.4             </td></tr>\n",
       "\t<tr><td>1986/03              </td><td>44,587.1             </td></tr>\n",
       "\t<tr><td>1986/04              </td><td>45,188.7             </td></tr>\n",
       "\t<tr><td>1986/05              </td><td>46,197.5             </td></tr>\n",
       "\t<tr><td>1986/06              </td><td>47,043.5             </td></tr>\n",
       "</tbody>\n",
       "</table>\n"
      ],
      "text/latex": [
       "\\begin{tabular}{r|ll}\n",
       " V1 & V2\\\\\n",
       "\\hline\n",
       "\t 통계표                & 1.1.주요 통화금융지표\\\\\n",
       "\t 항목명1               & M2(광의통화, 평잔)   \\\\\n",
       "\t 단위                  & 십억원               \\\\\n",
       "\t 변환                  & 원자료               \\\\\n",
       "\t 1986/01               & 43,133.6             \\\\\n",
       "\t 1986/02               & 43,492.4             \\\\\n",
       "\t 1986/03               & 44,587.1             \\\\\n",
       "\t 1986/04               & 45,188.7             \\\\\n",
       "\t 1986/05               & 46,197.5             \\\\\n",
       "\t 1986/06               & 47,043.5             \\\\\n",
       "\\end{tabular}\n"
      ],
      "text/markdown": [
       "\n",
       "| V1 | V2 |\n",
       "|---|---|\n",
       "| 통계표                | 1.1.주요 통화금융지표 |\n",
       "| 항목명1               | M2(광의통화, 평잔)    |\n",
       "| 단위                  | 십억원                |\n",
       "| 변환                  | 원자료                |\n",
       "| 1986/01               | 43,133.6              |\n",
       "| 1986/02               | 43,492.4              |\n",
       "| 1986/03               | 44,587.1              |\n",
       "| 1986/04               | 45,188.7              |\n",
       "| 1986/05               | 46,197.5              |\n",
       "| 1986/06               | 47,043.5              |\n",
       "\n"
      ],
      "text/plain": [
       "   V1      V2                   \n",
       "1  통계표  1.1.주요 통화금융지표\n",
       "2  항목명1 M2(광의통화, 평잔)   \n",
       "3  단위    십억원               \n",
       "4  변환    원자료               \n",
       "5  1986/01 43,133.6             \n",
       "6  1986/02 43,492.4             \n",
       "7  1986/03 44,587.1             \n",
       "8  1986/04 45,188.7             \n",
       "9  1986/05 46,197.5             \n",
       "10 1986/06 47,043.5             "
      ]
     },
     "metadata": {},
     "output_type": "display_data"
    }
   ],
   "source": [
    "head(m2,10)"
   ]
  },
  {
   "cell_type": "code",
   "execution_count": 5,
   "id": "559ebe1b",
   "metadata": {},
   "outputs": [
    {
     "data": {
      "text/html": [
       "<table>\n",
       "<thead><tr><th></th><th scope=col>V1</th><th scope=col>V2</th></tr></thead>\n",
       "<tbody>\n",
       "\t<tr><th scope=row>428</th><td>2021/04                                                                                                                                                                                           </td><td>3,358,874.9                                                                                                                                                                                       </td></tr>\n",
       "\t<tr><th scope=row>429</th><td>2021/05                                                                                                                                                                                           </td><td>3,379,753.9                                                                                                                                                                                       </td></tr>\n",
       "\t<tr><th scope=row>430</th><td>2021/06                                                                                                                                                                                           </td><td>3,413,899.8                                                                                                                                                                                       </td></tr>\n",
       "\t<tr><th scope=row>431</th><td>2021/07                                                                                                                                                                                           </td><td>3,445,243.0                                                                                                                                                                                       </td></tr>\n",
       "\t<tr><th scope=row>432</th><td>2021/08                                                                                                                                                                                           </td><td>3,487,634.1                                                                                                                                                                                       </td></tr>\n",
       "\t<tr><th scope=row>433</th><td>2021/09                                                                                                                                                                                           </td><td>3,513,220.2                                                                                                                                                                                       </td></tr>\n",
       "\t<tr><th scope=row>434</th><td>   1.1.주요 통화금융지표                                                                                                                                                                          </td><td>                                                                                                                                                                                                  </td></tr>\n",
       "\t<tr><th scope=row>435</th><td>통계담당 : 한국은행 경제통계국 금융통계팀(02-759-4310                                                                                                                                             </td><td> 5319)                                                                                                                                                                                            </td></tr>\n",
       "\t<tr><th scope=row>436</th><td>주 : 최종월은 잠정치                                                                                                                                                                              </td><td>                                                                                                                                                                                                  </td></tr>\n",
       "\t<tr><th scope=row>437</th><td>M2:2009.7월부터 독립적인 결제서비스를 제공하는 증권사의 CMA를 서비스 제공 시점에 따라 M2에 포함. 간접투자자산운용업법 시행(2004년 4월)에 따라 2004년 4월부터 수익증권 취급기관 및 상품 확대분 반영</td><td>                                                                                                                                                                                                  </td></tr>\n",
       "</tbody>\n",
       "</table>\n"
      ],
      "text/latex": [
       "\\begin{tabular}{r|ll}\n",
       "  & V1 & V2\\\\\n",
       "\\hline\n",
       "\t428 & 2021/04                                                                                                                                                                                            & 3,358,874.9                                                                                                                                                                                       \\\\\n",
       "\t429 & 2021/05                                                                                                                                                                                            & 3,379,753.9                                                                                                                                                                                       \\\\\n",
       "\t430 & 2021/06                                                                                                                                                                                            & 3,413,899.8                                                                                                                                                                                       \\\\\n",
       "\t431 & 2021/07                                                                                                                                                                                            & 3,445,243.0                                                                                                                                                                                       \\\\\n",
       "\t432 & 2021/08                                                                                                                                                                                            & 3,487,634.1                                                                                                                                                                                       \\\\\n",
       "\t433 & 2021/09                                                                                                                                                                                            & 3,513,220.2                                                                                                                                                                                       \\\\\n",
       "\t434 &    1.1.주요 통화금융지표                                                                                                                                                                           &                                                                                                                                                                                                   \\\\\n",
       "\t435 & 통계담당 : 한국은행 경제통계국 금융통계팀(02-759-4310                                                                                                                                              &  5319)                                                                                                                                                                                            \\\\\n",
       "\t436 & 주 : 최종월은 잠정치                                                                                                                                                                               &                                                                                                                                                                                                   \\\\\n",
       "\t437 & M2:2009.7월부터 독립적인 결제서비스를 제공하는 증권사의 CMA를 서비스 제공 시점에 따라 M2에 포함. 간접투자자산운용업법 시행(2004년 4월)에 따라 2004년 4월부터 수익증권 취급기관 및 상품 확대분 반영 &                                                                                                                                                                                                   \\\\\n",
       "\\end{tabular}\n"
      ],
      "text/markdown": [
       "\n",
       "| <!--/--> | V1 | V2 |\n",
       "|---|---|---|\n",
       "| 428 | 2021/04                                                                                                                                                                                            | 3,358,874.9                                                                                                                                                                                        |\n",
       "| 429 | 2021/05                                                                                                                                                                                            | 3,379,753.9                                                                                                                                                                                        |\n",
       "| 430 | 2021/06                                                                                                                                                                                            | 3,413,899.8                                                                                                                                                                                        |\n",
       "| 431 | 2021/07                                                                                                                                                                                            | 3,445,243.0                                                                                                                                                                                        |\n",
       "| 432 | 2021/08                                                                                                                                                                                            | 3,487,634.1                                                                                                                                                                                        |\n",
       "| 433 | 2021/09                                                                                                                                                                                            | 3,513,220.2                                                                                                                                                                                        |\n",
       "| 434 |    1.1.주요 통화금융지표                                                                                                                                                                           |                                                                                                                                                                                                    |\n",
       "| 435 | 통계담당 : 한국은행 경제통계국 금융통계팀(02-759-4310                                                                                                                                              |  5319)                                                                                                                                                                                             |\n",
       "| 436 | 주 : 최종월은 잠정치                                                                                                                                                                               |                                                                                                                                                                                                    |\n",
       "| 437 | M2:2009.7월부터 독립적인 결제서비스를 제공하는 증권사의 CMA를 서비스 제공 시점에 따라 M2에 포함. 간접투자자산운용업법 시행(2004년 4월)에 따라 2004년 4월부터 수익증권 취급기관 및 상품 확대분 반영 |                                                                                                                                                                                                    |\n",
       "\n"
      ],
      "text/plain": [
       "    V1                                                                                                                                                                                                \n",
       "428 2021/04                                                                                                                                                                                           \n",
       "429 2021/05                                                                                                                                                                                           \n",
       "430 2021/06                                                                                                                                                                                           \n",
       "431 2021/07                                                                                                                                                                                           \n",
       "432 2021/08                                                                                                                                                                                           \n",
       "433 2021/09                                                                                                                                                                                           \n",
       "434    1.1.주요 통화금융지표                                                                                                                                                                          \n",
       "435 통계담당 : 한국은행 경제통계국 금융통계팀(02-759-4310                                                                                                                                             \n",
       "436 주 : 최종월은 잠정치                                                                                                                                                                              \n",
       "437 M2:2009.7월부터 독립적인 결제서비스를 제공하는 증권사의 CMA를 서비스 제공 시점에 따라 M2에 포함. 간접투자자산운용업법 시행(2004년 4월)에 따라 2004년 4월부터 수익증권 취급기관 및 상품 확대분 반영\n",
       "    V2         \n",
       "428 3,358,874.9\n",
       "429 3,379,753.9\n",
       "430 3,413,899.8\n",
       "431 3,445,243.0\n",
       "432 3,487,634.1\n",
       "433 3,513,220.2\n",
       "434            \n",
       "435  5319)     \n",
       "436            \n",
       "437            "
      ]
     },
     "metadata": {},
     "output_type": "display_data"
    }
   ],
   "source": [
    "tail(m2,10)"
   ]
  },
  {
   "cell_type": "code",
   "execution_count": 6,
   "id": "3090d022",
   "metadata": {},
   "outputs": [],
   "source": [
    "colnames(m2) <- c('월간','M2')"
   ]
  },
  {
   "cell_type": "code",
   "execution_count": 7,
   "id": "b34e4024",
   "metadata": {},
   "outputs": [
    {
     "data": {
      "text/html": [
       "<table>\n",
       "<thead><tr><th scope=col>월간</th><th scope=col>M2</th></tr></thead>\n",
       "<tbody>\n",
       "\t<tr><td>통계표               </td><td>1.1.주요 통화금융지표</td></tr>\n",
       "\t<tr><td>항목명1              </td><td>M2(광의통화, 평잔)   </td></tr>\n",
       "\t<tr><td>단위                 </td><td>십억원               </td></tr>\n",
       "\t<tr><td>변환                 </td><td>원자료               </td></tr>\n",
       "\t<tr><td>1986/01              </td><td>43,133.6             </td></tr>\n",
       "\t<tr><td>1986/02              </td><td>43,492.4             </td></tr>\n",
       "</tbody>\n",
       "</table>\n"
      ],
      "text/latex": [
       "\\begin{tabular}{r|ll}\n",
       " 월간 & M2\\\\\n",
       "\\hline\n",
       "\t 통계표                & 1.1.주요 통화금융지표\\\\\n",
       "\t 항목명1               & M2(광의통화, 평잔)   \\\\\n",
       "\t 단위                  & 십억원               \\\\\n",
       "\t 변환                  & 원자료               \\\\\n",
       "\t 1986/01               & 43,133.6             \\\\\n",
       "\t 1986/02               & 43,492.4             \\\\\n",
       "\\end{tabular}\n"
      ],
      "text/markdown": [
       "\n",
       "| 월간 | M2 |\n",
       "|---|---|\n",
       "| 통계표                | 1.1.주요 통화금융지표 |\n",
       "| 항목명1               | M2(광의통화, 평잔)    |\n",
       "| 단위                  | 십억원                |\n",
       "| 변환                  | 원자료                |\n",
       "| 1986/01               | 43,133.6              |\n",
       "| 1986/02               | 43,492.4              |\n",
       "\n"
      ],
      "text/plain": [
       "  월간    M2                   \n",
       "1 통계표  1.1.주요 통화금융지표\n",
       "2 항목명1 M2(광의통화, 평잔)   \n",
       "3 단위    십억원               \n",
       "4 변환    원자료               \n",
       "5 1986/01 43,133.6             \n",
       "6 1986/02 43,492.4             "
      ]
     },
     "metadata": {},
     "output_type": "display_data"
    }
   ],
   "source": [
    "head(m2)"
   ]
  },
  {
   "cell_type": "code",
   "execution_count": 9,
   "id": "b53538a5",
   "metadata": {},
   "outputs": [],
   "source": [
    "m2 <- m2[c(-(1:4),-(434:437)),]"
   ]
  },
  {
   "cell_type": "code",
   "execution_count": 10,
   "id": "3928715b",
   "metadata": {},
   "outputs": [
    {
     "data": {
      "text/html": [
       "<table>\n",
       "<thead><tr><th></th><th scope=col>월간</th><th scope=col>M2</th></tr></thead>\n",
       "<tbody>\n",
       "\t<tr><th scope=row>428</th><td>2021/04    </td><td>3,358,874.9</td></tr>\n",
       "\t<tr><th scope=row>429</th><td>2021/05    </td><td>3,379,753.9</td></tr>\n",
       "\t<tr><th scope=row>430</th><td>2021/06    </td><td>3,413,899.8</td></tr>\n",
       "\t<tr><th scope=row>431</th><td>2021/07    </td><td>3,445,243.0</td></tr>\n",
       "\t<tr><th scope=row>432</th><td>2021/08    </td><td>3,487,634.1</td></tr>\n",
       "\t<tr><th scope=row>433</th><td>2021/09    </td><td>3,513,220.2</td></tr>\n",
       "</tbody>\n",
       "</table>\n"
      ],
      "text/latex": [
       "\\begin{tabular}{r|ll}\n",
       "  & 월간 & M2\\\\\n",
       "\\hline\n",
       "\t428 & 2021/04     & 3,358,874.9\\\\\n",
       "\t429 & 2021/05     & 3,379,753.9\\\\\n",
       "\t430 & 2021/06     & 3,413,899.8\\\\\n",
       "\t431 & 2021/07     & 3,445,243.0\\\\\n",
       "\t432 & 2021/08     & 3,487,634.1\\\\\n",
       "\t433 & 2021/09     & 3,513,220.2\\\\\n",
       "\\end{tabular}\n"
      ],
      "text/markdown": [
       "\n",
       "| <!--/--> | 월간 | M2 |\n",
       "|---|---|---|\n",
       "| 428 | 2021/04     | 3,358,874.9 |\n",
       "| 429 | 2021/05     | 3,379,753.9 |\n",
       "| 430 | 2021/06     | 3,413,899.8 |\n",
       "| 431 | 2021/07     | 3,445,243.0 |\n",
       "| 432 | 2021/08     | 3,487,634.1 |\n",
       "| 433 | 2021/09     | 3,513,220.2 |\n",
       "\n"
      ],
      "text/plain": [
       "    월간    M2         \n",
       "428 2021/04 3,358,874.9\n",
       "429 2021/05 3,379,753.9\n",
       "430 2021/06 3,413,899.8\n",
       "431 2021/07 3,445,243.0\n",
       "432 2021/08 3,487,634.1\n",
       "433 2021/09 3,513,220.2"
      ]
     },
     "metadata": {},
     "output_type": "display_data"
    }
   ],
   "source": [
    "tail(m2)"
   ]
  },
  {
   "cell_type": "code",
   "execution_count": 11,
   "id": "1b9dfd88",
   "metadata": {},
   "outputs": [
    {
     "name": "stdout",
     "output_type": "stream",
     "text": [
      "'data.frame':\t429 obs. of  2 variables:\n",
      " $ 월간: Factor w/ 437 levels \"   1.1.주요 통화금융지표\",..: 2 3 4 5 6 7 8 9 10 11 ...\n",
      " $ M2  : Factor w/ 435 levels \"\",\" 5319)\",\"1,004,960.2\",..: 288 289 291 294 297 300 301 304 306 309 ...\n"
     ]
    }
   ],
   "source": [
    "str(m2)"
   ]
  },
  {
   "cell_type": "code",
   "execution_count": 12,
   "id": "0e851d49",
   "metadata": {},
   "outputs": [],
   "source": [
    "m2$월간 <- factor(m2$월간)"
   ]
  },
  {
   "cell_type": "code",
   "execution_count": 13,
   "id": "e0256fc2",
   "metadata": {},
   "outputs": [
    {
     "name": "stdout",
     "output_type": "stream",
     "text": [
      "'data.frame':\t429 obs. of  2 variables:\n",
      " $ 월간: Factor w/ 429 levels \"1986/01\",\"1986/02\",..: 1 2 3 4 5 6 7 8 9 10 ...\n",
      " $ M2  : Factor w/ 435 levels \"\",\" 5319)\",\"1,004,960.2\",..: 288 289 291 294 297 300 301 304 306 309 ...\n"
     ]
    }
   ],
   "source": [
    "str(m2)"
   ]
  },
  {
   "cell_type": "code",
   "execution_count": 14,
   "id": "c70bdd2a",
   "metadata": {},
   "outputs": [],
   "source": [
    "for (i in 2: ncol(m2)){ \n",
    "    m2[,i] <- as.numeric(str_replace_all(as.character(m2[,i]),',',''))\n",
    "\n",
    "}"
   ]
  },
  {
   "cell_type": "code",
   "execution_count": 15,
   "id": "9bb10fbc",
   "metadata": {},
   "outputs": [
    {
     "data": {
      "text/html": [
       "<table>\n",
       "<thead><tr><th></th><th scope=col>월간</th><th scope=col>M2</th></tr></thead>\n",
       "<tbody>\n",
       "\t<tr><th scope=row>5</th><td>1986/01</td><td>43133.6</td></tr>\n",
       "\t<tr><th scope=row>6</th><td>1986/02</td><td>43492.4</td></tr>\n",
       "\t<tr><th scope=row>7</th><td>1986/03</td><td>44587.1</td></tr>\n",
       "\t<tr><th scope=row>8</th><td>1986/04</td><td>45188.7</td></tr>\n",
       "\t<tr><th scope=row>9</th><td>1986/05</td><td>46197.5</td></tr>\n",
       "\t<tr><th scope=row>10</th><td>1986/06</td><td>47043.5</td></tr>\n",
       "</tbody>\n",
       "</table>\n"
      ],
      "text/latex": [
       "\\begin{tabular}{r|ll}\n",
       "  & 월간 & M2\\\\\n",
       "\\hline\n",
       "\t5 & 1986/01 & 43133.6\\\\\n",
       "\t6 & 1986/02 & 43492.4\\\\\n",
       "\t7 & 1986/03 & 44587.1\\\\\n",
       "\t8 & 1986/04 & 45188.7\\\\\n",
       "\t9 & 1986/05 & 46197.5\\\\\n",
       "\t10 & 1986/06 & 47043.5\\\\\n",
       "\\end{tabular}\n"
      ],
      "text/markdown": [
       "\n",
       "| <!--/--> | 월간 | M2 |\n",
       "|---|---|---|\n",
       "| 5 | 1986/01 | 43133.6 |\n",
       "| 6 | 1986/02 | 43492.4 |\n",
       "| 7 | 1986/03 | 44587.1 |\n",
       "| 8 | 1986/04 | 45188.7 |\n",
       "| 9 | 1986/05 | 46197.5 |\n",
       "| 10 | 1986/06 | 47043.5 |\n",
       "\n"
      ],
      "text/plain": [
       "   월간    M2     \n",
       "5  1986/01 43133.6\n",
       "6  1986/02 43492.4\n",
       "7  1986/03 44587.1\n",
       "8  1986/04 45188.7\n",
       "9  1986/05 46197.5\n",
       "10 1986/06 47043.5"
      ]
     },
     "metadata": {},
     "output_type": "display_data"
    }
   ],
   "source": [
    "head(m2)"
   ]
  },
  {
   "cell_type": "code",
   "execution_count": 17,
   "id": "e21fa497",
   "metadata": {},
   "outputs": [],
   "source": [
    "m2$월간 <- str_replace_all(as.character(m2[,1]),'/','.')"
   ]
  },
  {
   "cell_type": "code",
   "execution_count": 18,
   "id": "859168e9",
   "metadata": {},
   "outputs": [
    {
     "name": "stdout",
     "output_type": "stream",
     "text": [
      "'data.frame':\t429 obs. of  2 variables:\n",
      " $ 월간: chr  \"1986.01\" \"1986.02\" \"1986.03\" \"1986.04\" ...\n",
      " $ M2  : num  43134 43492 44587 45189 46198 ...\n"
     ]
    }
   ],
   "source": [
    "str(m2)"
   ]
  },
  {
   "cell_type": "code",
   "execution_count": 19,
   "id": "2a6d1e3e",
   "metadata": {},
   "outputs": [],
   "source": [
    "write.csv(m2,\"../Data/M2data.csv\",row.names=F)"
   ]
  },
  {
   "cell_type": "code",
   "execution_count": null,
   "id": "a3c5b09e",
   "metadata": {},
   "outputs": [],
   "source": []
  }
 ],
 "metadata": {
  "kernelspec": {
   "display_name": "R",
   "language": "R",
   "name": "ir"
  },
  "language_info": {
   "codemirror_mode": "r",
   "file_extension": ".r",
   "mimetype": "text/x-r-source",
   "name": "R",
   "pygments_lexer": "r",
   "version": "3.6.1"
  }
 },
 "nbformat": 4,
 "nbformat_minor": 5
}

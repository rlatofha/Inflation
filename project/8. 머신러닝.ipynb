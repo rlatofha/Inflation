{
 "cells": [
  {
   "cell_type": "code",
   "execution_count": 6,
   "id": "5a3fc079",
   "metadata": {},
   "outputs": [
    {
     "name": "stderr",
     "output_type": "stream",
     "text": [
      "\n",
      "Attaching package: 'stringr'\n",
      "\n",
      "The following object is masked from 'package:strucchange':\n",
      "\n",
      "    boundary\n",
      "\n"
     ]
    }
   ],
   "source": [
    "library(stringr)"
   ]
  },
  {
   "cell_type": "code",
   "execution_count": 1,
   "id": "cc2e0a09",
   "metadata": {},
   "outputs": [
    {
     "name": "stderr",
     "output_type": "stream",
     "text": [
      "Loading required package: lattice\n",
      "Loading required package: ggplot2\n",
      "Registered S3 methods overwritten by 'ggplot2':\n",
      "  method         from \n",
      "  [.quosures     rlang\n",
      "  c.quosures     rlang\n",
      "  print.quosures rlang\n",
      "Loading required package: grid\n",
      "Loading required package: mvtnorm\n",
      "Loading required package: modeltools\n",
      "Loading required package: stats4\n",
      "Loading required package: strucchange\n",
      "Loading required package: zoo\n",
      "\n",
      "Attaching package: 'zoo'\n",
      "\n",
      "The following objects are masked from 'package:base':\n",
      "\n",
      "    as.Date, as.Date.numeric\n",
      "\n",
      "Loading required package: sandwich\n",
      "randomForest 4.6-14\n",
      "Type rfNews() to see new features/changes/bug fixes.\n",
      "\n",
      "Attaching package: 'randomForest'\n",
      "\n",
      "The following object is masked from 'package:ggplot2':\n",
      "\n",
      "    margin\n",
      "\n"
     ]
    }
   ],
   "source": [
    "# library\n",
    "library(caret)          # 샘플링\n",
    "library(nnet)           # 인공신경망\n",
    "library(party)          # 의사결정나무\n",
    "library(randomForest)   # 랜덤 포레스트\n",
    "library(e1071)          # SVM"
   ]
  },
  {
   "cell_type": "code",
   "execution_count": null,
   "id": "67950774",
   "metadata": {},
   "outputs": [],
   "source": []
  },
  {
   "cell_type": "code",
   "execution_count": 10,
   "id": "e9224970",
   "metadata": {},
   "outputs": [
    {
     "data": {
      "text/plain": [
       "      년도            월              쌀       \n",
       " Min.   :1996   Min.   : 1.00   Min.   :29360  \n",
       " 1st Qu.:2002   1st Qu.: 3.75   1st Qu.:36021  \n",
       " Median :2008   Median : 6.50   Median :39308  \n",
       " Mean   :2008   Mean   : 6.50   Mean   :39541  \n",
       " 3rd Qu.:2015   3rd Qu.: 9.25   3rd Qu.:41200  \n",
       " Max.   :2021   Max.   :12.00   Max.   :56772  "
      ]
     },
     "metadata": {},
     "output_type": "display_data"
    }
   ],
   "source": [
    "summary(rice)"
   ]
  },
  {
   "cell_type": "code",
   "execution_count": 7,
   "id": "6a93dc30",
   "metadata": {},
   "outputs": [],
   "source": [
    "for (i in 2: ncol(feature)){ \n",
    "    feature[,i] <- as.numeric(str_replace_all(as.character(feature[,i]),',',''))\n",
    "\n",
    "}"
   ]
  },
  {
   "cell_type": "code",
   "execution_count": 8,
   "id": "3a215d29",
   "metadata": {},
   "outputs": [
    {
     "name": "stdout",
     "output_type": "stream",
     "text": [
      "'data.frame':\t492 obs. of  34 variables:\n",
      " $ 년                                : int  1980 1980 1980 1980 1980 1980 1980 1980 1980 1980 ...\n",
      " $ 월                                : num  1 2 3 4 5 6 7 8 9 10 ...\n",
      " $ 곡류_수입                         : num  0 0 0 0 0 0 0 0 0 0 ...\n",
      " $ 맥류및잡곡_수입                   : num  66.6 66.6 65.8 63 62.3 ...\n",
      " $ 콩류_수입                         : num  63.6 63.6 65.7 62.7 62.7 ...\n",
      " $ 과실_수입                         : num  0 0 0 0 0 0 0 0 0 0 ...\n",
      " $ 도축육_수입                       : num  29.5 26.6 26.6 26.6 26.6 ...\n",
      " $ 가금육_수입                       : num  0 0 0 0 0 0 0 0 0 0 ...\n",
      " $ 신선어류_수입                     : num  0 0 0 0 0 0 0 0 0 0 ...\n",
      " $ 냉동수산물_수입                   : num  29.1 29.1 29.1 29 30 ...\n",
      " $ 낙농품_수입                       : num  0 0 0 0 0 0 0 0 0 0 ...\n",
      " $ 수산물가공품_수입                 : num  0 0 0 0 0 0 0 0 0 0 ...\n",
      " $ 원당_수입                         : num  84.7 99.4 99.4 118 161.4 ...\n",
      " $ 유지_수입                         : num  59.6 59.4 58.7 50.5 50.4 ...\n",
      " $ 과실및채소가공품_수입             : num  0 0 0 0 0 0 0 0 0 0 ...\n",
      " $ 인삼및건강보조식품_수입           : num  0 0 0 0 0 0 0 0 0 0 ...\n",
      " $ 농림수산품_수출                   : num  32.6 33.7 33.2 32.7 32.2 ...\n",
      " $ 농림수산품.1_수출                 : num  32.6 33.7 33.2 32.7 32.2 ...\n",
      " $ 농산물_수출                       : num  46.5 48.6 46.8 51.1 50.4 ...\n",
      " $ 채소및과실_수출                   : num  27.5 31.3 28.1 35 33.8 ...\n",
      " $ 과실_수출                         : num  54.9 54.9 54.9 54.9 54.9 ...\n",
      " $ 수산물_수출                       : num  31.3 32.2 32 30.8 30.2 ...\n",
      " $ 신선수산물_수출                   : num  27.8 30.9 30.9 23 20.8 ...\n",
      " $ 신선어류_수출                     : num  27.8 30.9 30.9 23 20.8 ...\n",
      " $ 냉동건조수산물_수출               : num  37.6 38.4 38.1 37.5 37.7 ...\n",
      " $ 냉동수산물_수출                   : num  37.6 38.4 38.1 37.5 37.7 ...\n",
      " $ 국민총소득.gni.                   : num  39364 39364 39364 39364 39364 ...\n",
      " $ BillionsOfUSD                     : num  71.4 71.4 71.4 71.4 71.4 ...\n",
      " $ AnnualPerGrowth                   : num  -2.45 -2.45 -2.45 -2.45 -2.45 ...\n",
      " $ USDPerCapita                      : num  1870 1870 1870 1870 1870 1870 1870 1870 1870 1870 ...\n",
      " $ 국내공급물가지수.SupplyPriceIndex.: num  30.8 35.1 36.2 36.9 37.6 ...\n",
      " $ 국내총생산.GDP.                   : num  0.9 0.9 0.9 -0.5 -0.5 -0.5 1.9 1.9 1.9 -2.8 ...\n",
      " $ GDP기준지출지수                   : num  0.2 0.2 0.2 -3.5 -3.5 -3.5 2.3 2.3 2.3 -4.8 ...\n",
      " $ GDP디플레이터                     : num  24.7 24.7 24.7 26.3 26.3 26.3 20.9 20.9 20.9 26.7 ...\n"
     ]
    }
   ],
   "source": [
    "str(feature)"
   ]
  },
  {
   "cell_type": "code",
   "execution_count": 9,
   "id": "70d611e0",
   "metadata": {},
   "outputs": [
    {
     "data": {
      "text/html": [
       "192"
      ],
      "text/latex": [
       "192"
      ],
      "text/markdown": [
       "192"
      ],
      "text/plain": [
       "[1] 192"
      ]
     },
     "metadata": {},
     "output_type": "display_data"
    }
   ],
   "source": [
    "(1996 - 1980) * 12"
   ]
  },
  {
   "cell_type": "code",
   "execution_count": null,
   "id": "be33b27f",
   "metadata": {},
   "outputs": [],
   "source": []
  },
  {
   "cell_type": "code",
   "execution_count": 24,
   "id": "e3f4e0ad",
   "metadata": {},
   "outputs": [],
   "source": [
    "abc <- read.csv('../Data/rice.csv', fileEncoding = \"utf-8\")"
   ]
  },
  {
   "cell_type": "code",
   "execution_count": null,
   "id": "71e9fff5",
   "metadata": {},
   "outputs": [],
   "source": []
  },
  {
   "cell_type": "code",
   "execution_count": 25,
   "id": "763ac3dc",
   "metadata": {},
   "outputs": [
    {
     "name": "stdout",
     "output_type": "stream",
     "text": [
      "'data.frame':\t252 obs. of  35 variables:\n",
      " $ 년                                : int  2000 2000 2000 2000 2000 2000 2000 2000 2000 2000 ...\n",
      " $ 월                                : int  1 2 3 4 5 6 7 8 9 10 ...\n",
      " $ 곡류_수입                         : num  38.2 38.2 38.2 38.2 38.2 ...\n",
      " $ 맥류및잡곡_수입                   : num  46.2 46.1 45.9 46 46.5 ...\n",
      " $ 콩류_수입                         : num  49.8 50.2 50.9 50.9 52.1 ...\n",
      " $ 과실_수입                         : num  68.3 71.7 73.5 65.1 65.4 ...\n",
      " $ 도축육_수입                       : num  56.8 55.9 57 58.9 58.4 ...\n",
      " $ 가금육_수입                       : num  0 0 0 0 0 0 0 0 0 0 ...\n",
      " $ 신선어류_수입                     : num  0 0 0 0 0 0 0 0 0 0 ...\n",
      " $ 냉동수산물_수입                   : num  69 70 71 68.4 72.6 ...\n",
      " $ 낙농품_수입                       : num  0 0 0 0 0 0 0 0 0 0 ...\n",
      " $ 수산물가공품_수입                 : num  47 45.7 45.7 45.9 45.3 ...\n",
      " $ 원당_수입                         : num  44.8 43 43 44 44 ...\n",
      " $ 유지_수입                         : num  49 47.9 48.1 48.9 50.5 ...\n",
      " $ 과실및채소가공품_수입             : num  59 59 59 59 59 ...\n",
      " $ 인삼및건강보조식품_수입           : num  0 0 0 0 0 0 0 0 0 0 ...\n",
      " $ 농림수산품_수출                   : num  86.8 83 77.5 77.3 75.8 ...\n",
      " $ 농림수산품.1_수출                 : num  86.8 83 77.5 77.3 75.8 ...\n",
      " $ 농산물_수출                       : num  89.1 89.1 89.1 89.1 89.1 ...\n",
      " $ 채소및과실_수출                   : num  89.1 89.1 89.1 89.1 89.1 ...\n",
      " $ 과실_수출                         : num  89.1 89.1 89.1 89.1 89.1 ...\n",
      " $ 수산물_수출                       : num  89.8 85.5 79 78.8 77 ...\n",
      " $ 신선수산물_수출                   : num  162 155 154 154 148 ...\n",
      " $ 신선어류_수출                     : num  162 155 154 154 148 ...\n",
      " $ 냉동건조수산물_수출               : num  81 77 69.4 69.2 68 ...\n",
      " $ 냉동수산물_수출                   : num  81 77 69.4 69.2 68 ...\n",
      " $ 국민총소득.gni.                   : num  647274 647274 647274 647274 647274 ...\n",
      " $ BillionsOfUSD                     : num  519 519 519 519 519 ...\n",
      " $ AnnualPerGrowth                   : num  9.6 9.6 9.6 9.6 9.6 ...\n",
      " $ USDPerCapita                      : int  11030 11030 11030 11030 11030 11030 11030 11030 11030 11030 ...\n",
      " $ 국내공급물가지수.SupplyPriceIndex.: num  75.3 75.2 75.1 74.3 74.6 ...\n",
      " $ 국내총생산.GDP.                   : num  1.9 1.9 1.9 1.3 1.3 1.3 2.8 2.8 2.8 -0.3 ...\n",
      " $ GDP기준지출지수                   : num  12.7 12.7 12.7 9.1 9.1 9.1 9.1 9.1 9.1 5.9 ...\n",
      " $ GDP디플레이터                     : num  1.3 1.3 1.3 2.4 2.4 2.4 -0.3 -0.3 -0.3 0.8 ...\n",
      " $ rice                              : int  40050 40340 40340 40397 40742 41084 41200 41262 41161 40613 ...\n"
     ]
    }
   ],
   "source": [
    "str(abc)##c(1,2,3,4,5,17,19,27:nrow(Exam1234))"
   ]
  },
  {
   "cell_type": "code",
   "execution_count": 41,
   "id": "358cc145",
   "metadata": {},
   "outputs": [
    {
     "data": {
      "text/html": [
       "<table>\n",
       "<tbody>\n",
       "\t<tr><td>c</td></tr>\n",
       "\t<tr><td>c</td></tr>\n",
       "\t<tr><td>c</td></tr>\n",
       "\t<tr><td>c</td></tr>\n",
       "\t<tr><td>c</td></tr>\n",
       "\t<tr><td>c</td></tr>\n",
       "</tbody>\n",
       "</table>\n"
      ],
      "text/latex": [
       "\\begin{tabular}{l}\n",
       "\t c\\\\\n",
       "\t c\\\\\n",
       "\t c\\\\\n",
       "\t c\\\\\n",
       "\t c\\\\\n",
       "\t c\\\\\n",
       "\\end{tabular}\n"
      ],
      "text/markdown": [
       "\n",
       "| c |\n",
       "| c |\n",
       "| c |\n",
       "| c |\n",
       "| c |\n",
       "| c |\n",
       "\n"
      ],
      "text/plain": [
       "     [,1]\n",
       "[1,] c   \n",
       "[2,] c   \n",
       "[3,] c   \n",
       "[4,] c   \n",
       "[5,] c   \n",
       "[6,] c   "
      ]
     },
     "metadata": {},
     "output_type": "display_data"
    }
   ],
   "source": [
    "## 타입 정해주는 if문\n",
    "exex <- c()\n",
    "for(i in 1:nrow(abc)){\n",
    "    if(abc$rice[i]<36021){\n",
    "        exex <- rbind(exex,'a')\n",
    "    }else if(abc$rice[i]<39308){\n",
    "        exex <- rbind(exex,'b')\n",
    "    }else if(abc$rice[i]<41200){\n",
    "        exex <- rbind(exex,'c')\n",
    "    }else{\n",
    "        exex <- rbind(exex,'d')\n",
    "    }\n",
    "}\n",
    "head(exex)"
   ]
  },
  {
   "cell_type": "code",
   "execution_count": 42,
   "id": "adff04bb",
   "metadata": {},
   "outputs": [
    {
     "data": {
      "text/plain": [
       "exex\n",
       " a  b  c  d \n",
       "52 63 69 68 "
      ]
     },
     "metadata": {},
     "output_type": "display_data"
    }
   ],
   "source": [
    "table(exex)"
   ]
  },
  {
   "cell_type": "code",
   "execution_count": null,
   "id": "cb0c79d1",
   "metadata": {},
   "outputs": [],
   "source": []
  },
  {
   "cell_type": "code",
   "execution_count": 29,
   "id": "456c97b9",
   "metadata": {},
   "outputs": [],
   "source": [
    "## 정제된 전체\n",
    "Exam1234 <- cbind(abc,riceType=exex)"
   ]
  },
  {
   "cell_type": "code",
   "execution_count": 38,
   "id": "544332e5",
   "metadata": {},
   "outputs": [],
   "source": [
    "## 쌀 관련만 할 경우\n",
    "Exam1234 <- Exam1234[,c(1,2,3,4,5,17,19,27:ncol(Exam1234))]"
   ]
  },
  {
   "cell_type": "code",
   "execution_count": null,
   "id": "9c195da2",
   "metadata": {},
   "outputs": [],
   "source": []
  },
  {
   "cell_type": "code",
   "execution_count": null,
   "id": "627cb2e1",
   "metadata": {},
   "outputs": [],
   "source": []
  },
  {
   "cell_type": "code",
   "execution_count": 39,
   "id": "d1122a0c",
   "metadata": {},
   "outputs": [],
   "source": [
    "EXAM <- function(a){\n",
    "    nnet <- c()\n",
    "    tree <- c()\n",
    "    rf <- c()\n",
    "    svm <- c()\n",
    "    log <- c()\n",
    "    for(i in 1:a){\n",
    "\n",
    "        samp <- createDataPartition(Exam1234$riceType,p = 0.7,list = F)\n",
    "        # 학습용\n",
    "        data.tr <- Exam1234[samp,]\n",
    "        # 검증용\n",
    "        data.test <- Exam1234[-samp,]\n",
    "        # 문제와 정답 만들기\n",
    "        x <- subset(data.test,select = -riceType)\n",
    "        y <- data.test$riceType\n",
    "        \n",
    "        model.nnet <- nnet(riceType ~ .,data = data.tr,size = 3)       # 인공 신경망\n",
    "        model.tree <- ctree(riceType ~ ., data = data.tr)           # 의사 결정 나무\n",
    "        model.rf <- randomForest(riceType~.,data=data.tr,ntree=100) # 랜덤 포레스트\n",
    "        model.svm <- svm(riceType ~ . , data=data.tr)               # SVM\n",
    "        model.log <- multinom(riceType ~ .,data=data.tr)            # 로지스틱 회귀분석\n",
    "        \n",
    "        #\n",
    "        pred.nnet <- predict(model.nnet, x,type = 'class')\n",
    "        mean.nnet <- mean(y == pred.nnet)\n",
    "        nnet <- c(nnet,mean.nnet)\n",
    "        #\n",
    "        pred.tree <- predict(model.tree, x)\n",
    "        mean.tree <- mean(y == pred.tree)\n",
    "        tree <- c(tree,mean.tree)\n",
    "        #\n",
    "        pred.rf <- predict(model.rf, x)\n",
    "        mean.rf <- mean(y == pred.rf)\n",
    "        rf <- c(rf,mean.rf)\n",
    "        #\n",
    "        pred.svm <- predict(model.svm, x)\n",
    "        mean.svm <- mean(y == pred.svm)\n",
    "        svm <- c(svm,mean.svm)\n",
    "        #\n",
    "        pred.log <- predict(model.log, x)\n",
    "        mean.log <- mean(y == pred.log)\n",
    "        log <- c(log,mean.log)\n",
    "        \n",
    "        \n",
    "    }\n",
    "    cat('-----------------------------------------------------\\n')\n",
    "    cat('인공신경망 예측율\\n',nnet,'\\n')\n",
    "    cat('평균 예측율 : ',mean(nnet),'\\n')\n",
    "    cat('의사결정나무 예측율\\n',tree,'\\n')\n",
    "    cat('평균 예측율 : ',mean(tree),'\\n')\n",
    "    cat('랜덤포레스트 예측율\\n',rf,'\\n')\n",
    "    cat('평균 예측율 : ',mean(rf),'\\n')\n",
    "    cat('SVM 예측율\\n',svm,'\\n')\n",
    "    cat('평균 예측율 : ',mean(svm),'\\n')\n",
    "    cat('로지스틱 예측율\\n',log,'\\n')\n",
    "    cat('평균 예측율 : ',mean(log),'\\n')\n",
    "    cat('-----------------------------------------------------\\n')\n",
    "}"
   ]
  },
  {
   "cell_type": "code",
   "execution_count": 40,
   "id": "49e03b53",
   "metadata": {},
   "outputs": [
    {
     "name": "stdout",
     "output_type": "stream",
     "text": [
      "# weights:  67\n",
      "initial  value 346.011074 \n",
      "final  value 247.121441 \n",
      "converged\n",
      "# weights:  72 (51 variable)\n",
      "initial  value 248.146691 \n",
      "iter  10 value 169.553201\n",
      "iter  20 value 111.297143\n",
      "iter  30 value 99.793348\n",
      "iter  40 value 74.537492\n",
      "iter  50 value 31.583064\n",
      "iter  60 value 5.522501\n",
      "iter  70 value 0.065434\n",
      "iter  80 value 0.000227\n",
      "final  value 0.000025 \n",
      "converged\n",
      "# weights:  67\n",
      "initial  value 258.152321 \n",
      "final  value 247.121441 \n",
      "converged\n",
      "# weights:  72 (51 variable)\n",
      "initial  value 248.146691 \n",
      "iter  10 value 186.976602\n",
      "iter  20 value 102.615895\n",
      "iter  30 value 85.281179\n",
      "iter  40 value 68.880469\n",
      "iter  50 value 29.674208\n",
      "iter  60 value 2.396792\n",
      "iter  70 value 0.011327\n",
      "final  value 0.000088 \n",
      "converged\n",
      "# weights:  67\n",
      "initial  value 259.904713 \n",
      "final  value 247.121441 \n",
      "converged\n",
      "# weights:  72 (51 variable)\n",
      "initial  value 248.146691 \n",
      "iter  10 value 194.635147\n",
      "iter  20 value 125.582438\n",
      "iter  30 value 107.077902\n",
      "iter  40 value 86.494710\n",
      "iter  50 value 44.681239\n",
      "iter  60 value 10.270707\n",
      "iter  70 value 3.111908\n",
      "iter  80 value 0.022771\n",
      "final  value 0.000050 \n",
      "converged\n",
      "# weights:  67\n",
      "initial  value 327.711755 \n",
      "iter  10 value 224.739665\n",
      "iter  20 value 223.956186\n",
      "final  value 223.955042 \n",
      "converged\n",
      "# weights:  72 (51 variable)\n",
      "initial  value 248.146691 \n",
      "iter  10 value 178.838082\n",
      "iter  20 value 126.911873\n",
      "iter  30 value 108.046372\n",
      "iter  40 value 84.664505\n",
      "iter  50 value 36.694663\n",
      "iter  60 value 6.066179\n",
      "iter  70 value 0.126903\n",
      "iter  80 value 0.000131\n",
      "iter  80 value 0.000066\n",
      "iter  80 value 0.000029\n",
      "final  value 0.000029 \n",
      "converged\n",
      "# weights:  67\n",
      "initial  value 254.783635 \n",
      "final  value 247.121441 \n",
      "converged\n",
      "# weights:  72 (51 variable)\n",
      "initial  value 248.146691 \n",
      "iter  10 value 192.225047\n",
      "iter  20 value 137.747871\n",
      "iter  30 value 124.001308\n",
      "iter  40 value 85.941268\n",
      "iter  50 value 36.223237\n",
      "iter  60 value 4.187734\n",
      "iter  70 value 0.019135\n",
      "final  value 0.000009 \n",
      "converged\n",
      "-----------------------------------------------------\n",
      "인공신경망 예측율\n",
      " 0.2739726 0.2739726 0.2739726 0.3835616 0.2739726 \n",
      "평균 예측율 :  0.2958904 \n",
      "의사결정나무 예측율\n",
      " 0.9726027 0.9863014 1 0.9726027 1 \n",
      "평균 예측율 :  0.9863014 \n",
      "랜덤포레스트 예측율\n",
      " 0.9452055 0.9863014 1 0.9178082 0.9726027 \n",
      "평균 예측율 :  0.9643836 \n",
      "SVM 예측율\n",
      " 0.8356164 0.7808219 0.8630137 0.8082192 0.8493151 \n",
      "평균 예측율 :  0.8273973 \n",
      "로지스틱 예측율\n",
      " 0.890411 0.8767123 0.9452055 0.8767123 0.890411 \n",
      "평균 예측율 :  0.8958904 \n",
      "-----------------------------------------------------\n"
     ]
    }
   ],
   "source": [
    "EXAM(5)"
   ]
  },
  {
   "cell_type": "code",
   "execution_count": null,
   "id": "4c8faca7",
   "metadata": {},
   "outputs": [],
   "source": []
  },
  {
   "cell_type": "code",
   "execution_count": null,
   "id": "4e106871",
   "metadata": {},
   "outputs": [],
   "source": []
  },
  {
   "cell_type": "code",
   "execution_count": 14,
   "id": "a4a774ff",
   "metadata": {},
   "outputs": [],
   "source": []
  },
  {
   "cell_type": "code",
   "execution_count": null,
   "id": "569d21d7",
   "metadata": {},
   "outputs": [],
   "source": []
  }
 ],
 "metadata": {
  "kernelspec": {
   "display_name": "R",
   "language": "R",
   "name": "ir"
  },
  "language_info": {
   "codemirror_mode": "r",
   "file_extension": ".r",
   "mimetype": "text/x-r-source",
   "name": "R",
   "pygments_lexer": "r",
   "version": "3.6.1"
  }
 },
 "nbformat": 4,
 "nbformat_minor": 5
}
